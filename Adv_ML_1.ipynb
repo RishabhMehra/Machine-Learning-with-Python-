{
  "nbformat": 4,
  "nbformat_minor": 0,
  "metadata": {
    "colab": {
      "name": "Adv ML 1.ipynb",
      "provenance": [],
      "collapsed_sections": [],
      "authorship_tag": "ABX9TyPr6VCYybkO/KBSXTvroLOd",
      "include_colab_link": true
    },
    "kernelspec": {
      "name": "python3",
      "display_name": "Python 3"
    },
    "language_info": {
      "name": "python"
    }
  },
  "cells": [
    {
      "cell_type": "markdown",
      "metadata": {
        "id": "view-in-github",
        "colab_type": "text"
      },
      "source": [
        "<a href=\"https://colab.research.google.com/github/RishabhMehra/Machine-Learning-with-Python-/blob/Data/Adv_ML_1.ipynb\" target=\"_parent\"><img src=\"https://colab.research.google.com/assets/colab-badge.svg\" alt=\"Open In Colab\"/></a>"
      ]
    },
    {
      "cell_type": "code",
      "metadata": {
        "id": "Db1e245oeClU"
      },
      "source": [
        "import pandas as pd\n",
        "import numpy as np\n",
        "import matplotlib.pyplot as plt\n",
        "%matplotlib inline"
      ],
      "execution_count": null,
      "outputs": []
    },
    {
      "cell_type": "markdown",
      "metadata": {
        "id": "Xli2zs9eeeow"
      },
      "source": [
        "Developing Gradient descent Algorith for Linear regression\n"
      ]
    },
    {
      "cell_type": "code",
      "metadata": {
        "colab": {
          "base_uri": "https://localhost:8080/"
        },
        "id": "VwZ3S3wHeyVM",
        "outputId": "58b1650d-337b-40d6-9a28-28369b485495"
      },
      "source": [
        "url ='https://raw.githubusercontent.com/RishabhMehra/Machine-Learning-with-Python-/main/Data/Advertising.csv'\n",
        "\n",
        "df = pd.read_csv(url)\n",
        "df.info()"
      ],
      "execution_count": null,
      "outputs": [
        {
          "output_type": "stream",
          "text": [
            "<class 'pandas.core.frame.DataFrame'>\n",
            "RangeIndex: 200 entries, 0 to 199\n",
            "Data columns (total 5 columns):\n",
            " #   Column      Non-Null Count  Dtype  \n",
            "---  ------      --------------  -----  \n",
            " 0   Unnamed: 0  200 non-null    int64  \n",
            " 1   TV          200 non-null    float64\n",
            " 2   Radio       200 non-null    float64\n",
            " 3   Newspaper   200 non-null    float64\n",
            " 4   Sales       200 non-null    float64\n",
            "dtypes: float64(4), int64(1)\n",
            "memory usage: 7.9 KB\n"
          ],
          "name": "stdout"
        }
      ]
    },
    {
      "cell_type": "code",
      "metadata": {
        "colab": {
          "base_uri": "https://localhost:8080/",
          "height": 204
        },
        "id": "KXfPUzK8f2CB",
        "outputId": "921504d5-772d-429a-93c1-f51cd0e094dc"
      },
      "source": [
        "df.head()"
      ],
      "execution_count": null,
      "outputs": [
        {
          "output_type": "execute_result",
          "data": {
            "text/html": [
              "<div>\n",
              "<style scoped>\n",
              "    .dataframe tbody tr th:only-of-type {\n",
              "        vertical-align: middle;\n",
              "    }\n",
              "\n",
              "    .dataframe tbody tr th {\n",
              "        vertical-align: top;\n",
              "    }\n",
              "\n",
              "    .dataframe thead th {\n",
              "        text-align: right;\n",
              "    }\n",
              "</style>\n",
              "<table border=\"1\" class=\"dataframe\">\n",
              "  <thead>\n",
              "    <tr style=\"text-align: right;\">\n",
              "      <th></th>\n",
              "      <th>Unnamed: 0</th>\n",
              "      <th>TV</th>\n",
              "      <th>Radio</th>\n",
              "      <th>Newspaper</th>\n",
              "      <th>Sales</th>\n",
              "    </tr>\n",
              "  </thead>\n",
              "  <tbody>\n",
              "    <tr>\n",
              "      <th>0</th>\n",
              "      <td>1</td>\n",
              "      <td>230.1</td>\n",
              "      <td>37.8</td>\n",
              "      <td>69.2</td>\n",
              "      <td>22.1</td>\n",
              "    </tr>\n",
              "    <tr>\n",
              "      <th>1</th>\n",
              "      <td>2</td>\n",
              "      <td>44.5</td>\n",
              "      <td>39.3</td>\n",
              "      <td>45.1</td>\n",
              "      <td>10.4</td>\n",
              "    </tr>\n",
              "    <tr>\n",
              "      <th>2</th>\n",
              "      <td>3</td>\n",
              "      <td>17.2</td>\n",
              "      <td>45.9</td>\n",
              "      <td>69.3</td>\n",
              "      <td>9.3</td>\n",
              "    </tr>\n",
              "    <tr>\n",
              "      <th>3</th>\n",
              "      <td>4</td>\n",
              "      <td>151.5</td>\n",
              "      <td>41.3</td>\n",
              "      <td>58.5</td>\n",
              "      <td>18.5</td>\n",
              "    </tr>\n",
              "    <tr>\n",
              "      <th>4</th>\n",
              "      <td>5</td>\n",
              "      <td>180.8</td>\n",
              "      <td>10.8</td>\n",
              "      <td>58.4</td>\n",
              "      <td>12.9</td>\n",
              "    </tr>\n",
              "  </tbody>\n",
              "</table>\n",
              "</div>"
            ],
            "text/plain": [
              "   Unnamed: 0     TV  Radio  Newspaper  Sales\n",
              "0           1  230.1   37.8       69.2   22.1\n",
              "1           2   44.5   39.3       45.1   10.4\n",
              "2           3   17.2   45.9       69.3    9.3\n",
              "3           4  151.5   41.3       58.5   18.5\n",
              "4           5  180.8   10.8       58.4   12.9"
            ]
          },
          "metadata": {
            "tags": []
          },
          "execution_count": 11
        }
      ]
    },
    {
      "cell_type": "code",
      "metadata": {
        "colab": {
          "base_uri": "https://localhost:8080/",
          "height": 204
        },
        "id": "KSMwOmgXgFza",
        "outputId": "99563053-3a8f-4cd5-ed48-1c8f5c4211ad"
      },
      "source": [
        "df.drop('Unnamed: 0',axis=1,inplace=True)\n",
        "\n",
        "df.head()"
      ],
      "execution_count": null,
      "outputs": [
        {
          "output_type": "execute_result",
          "data": {
            "text/html": [
              "<div>\n",
              "<style scoped>\n",
              "    .dataframe tbody tr th:only-of-type {\n",
              "        vertical-align: middle;\n",
              "    }\n",
              "\n",
              "    .dataframe tbody tr th {\n",
              "        vertical-align: top;\n",
              "    }\n",
              "\n",
              "    .dataframe thead th {\n",
              "        text-align: right;\n",
              "    }\n",
              "</style>\n",
              "<table border=\"1\" class=\"dataframe\">\n",
              "  <thead>\n",
              "    <tr style=\"text-align: right;\">\n",
              "      <th></th>\n",
              "      <th>TV</th>\n",
              "      <th>Radio</th>\n",
              "      <th>Newspaper</th>\n",
              "      <th>Sales</th>\n",
              "    </tr>\n",
              "  </thead>\n",
              "  <tbody>\n",
              "    <tr>\n",
              "      <th>0</th>\n",
              "      <td>230.1</td>\n",
              "      <td>37.8</td>\n",
              "      <td>69.2</td>\n",
              "      <td>22.1</td>\n",
              "    </tr>\n",
              "    <tr>\n",
              "      <th>1</th>\n",
              "      <td>44.5</td>\n",
              "      <td>39.3</td>\n",
              "      <td>45.1</td>\n",
              "      <td>10.4</td>\n",
              "    </tr>\n",
              "    <tr>\n",
              "      <th>2</th>\n",
              "      <td>17.2</td>\n",
              "      <td>45.9</td>\n",
              "      <td>69.3</td>\n",
              "      <td>9.3</td>\n",
              "    </tr>\n",
              "    <tr>\n",
              "      <th>3</th>\n",
              "      <td>151.5</td>\n",
              "      <td>41.3</td>\n",
              "      <td>58.5</td>\n",
              "      <td>18.5</td>\n",
              "    </tr>\n",
              "    <tr>\n",
              "      <th>4</th>\n",
              "      <td>180.8</td>\n",
              "      <td>10.8</td>\n",
              "      <td>58.4</td>\n",
              "      <td>12.9</td>\n",
              "    </tr>\n",
              "  </tbody>\n",
              "</table>\n",
              "</div>"
            ],
            "text/plain": [
              "      TV  Radio  Newspaper  Sales\n",
              "0  230.1   37.8       69.2   22.1\n",
              "1   44.5   39.3       45.1   10.4\n",
              "2   17.2   45.9       69.3    9.3\n",
              "3  151.5   41.3       58.5   18.5\n",
              "4  180.8   10.8       58.4   12.9"
            ]
          },
          "metadata": {
            "tags": []
          },
          "execution_count": 12
        }
      ]
    },
    {
      "cell_type": "code",
      "metadata": {
        "id": "Bzhh5i4VgSUr"
      },
      "source": [
        "X = df[['TV','Radio','Newspaper']]\n",
        "Y = df['Sales']\n",
        "\n",
        "\n",
        "\n"
      ],
      "execution_count": null,
      "outputs": []
    },
    {
      "cell_type": "code",
      "metadata": {
        "id": "lqZt6BuXgphp"
      },
      "source": [
        "# Standardize X and Y\n",
        "\n",
        "Y = np.array((Y -Y.mean()) / Y.std())\n",
        "X = X.apply(lambda rec: (rec-rec.mean())/rec.std(),axis=0)\n"
      ],
      "execution_count": null,
      "outputs": []
    },
    {
      "cell_type": "code",
      "metadata": {
        "id": "0nBmFdzDhLcy"
      },
      "source": [
        "#Step 1\n",
        "#randomly Initialize bias and weights\n",
        "import random\n",
        "def initialize(dim):\n",
        "  np.random.seed(seed=42)\n",
        "  random.seed(42)\n",
        "  b = random.random()\n",
        "  w = np.random.rand(dim)\n",
        "\n",
        "  return b,w\n"
      ],
      "execution_count": null,
      "outputs": []
    },
    {
      "cell_type": "code",
      "metadata": {
        "id": "ixah18h3iAMc"
      },
      "source": [
        "#step 2\n",
        "#Predict values from bias and weights\n",
        "\n",
        "def Predict_y(b,w,X) :\n",
        "  return b + X.dot(w)\n",
        "\n"
      ],
      "execution_count": null,
      "outputs": []
    },
    {
      "cell_type": "code",
      "metadata": {
        "id": "3WDPg0Q-lSa6"
      },
      "source": [
        "#Step3\n",
        "#Calculate cost function - MSE mean square error\n",
        "\n",
        "import math\n",
        "def get_cost(Y,Y_hat):\n",
        "  Y_resid = Y-Y_hat\n",
        "  return np.sum(np.matmul(Y_resid.T,Y_resid)/len(Y_resid))"
      ],
      "execution_count": null,
      "outputs": []
    },
    {
      "cell_type": "code",
      "metadata": {
        "colab": {
          "base_uri": "https://localhost:8080/"
        },
        "id": "KRk3LTlfmKFs",
        "outputId": "56d0f2fc-2f94-434d-ba97-c98febf28e59"
      },
      "source": [
        "#code test\n",
        "\n",
        "b,w = initialize(3)\n",
        "\n",
        "\n",
        "Y_hat = Predict_y(b,w,X)\n",
        "get_cost(Y,Y_hat)"
      ],
      "execution_count": null,
      "outputs": [
        {
          "output_type": "execute_result",
          "data": {
            "text/plain": [
              "1.5303100198505888"
            ]
          },
          "metadata": {
            "tags": []
          },
          "execution_count": 30
        }
      ]
    },
    {
      "cell_type": "code",
      "metadata": {
        "id": "LDA1mo55mcJf"
      },
      "source": [
        "#step 4 \n",
        "#update bias and weights\n",
        "\n",
        "def update_beta(x,y,y_hat,b_0,w_0, Learning_rate):\n",
        "  db = (np.sum(y_hat -y)*2) / len(y)\n",
        "  dw = (np.dot((y_hat -y),x)) * 2 / len(y)\n",
        "  b_1 = b_0 - Learning_rate * db\n",
        "  w_1 = w_0 - Learning_rate * dw\n",
        "  return b_1,w_1"
      ],
      "execution_count": null,
      "outputs": []
    },
    {
      "cell_type": "code",
      "metadata": {
        "colab": {
          "base_uri": "https://localhost:8080/"
        },
        "id": "q92qgIj6n5q7",
        "outputId": "a9b4d3bf-1cb7-4270-cc32-2c6143bbc202"
      },
      "source": [
        "#code test\n",
        "b,w = initialize(3)\n",
        "print(\"After Initialization - Bias :\",b,\" Weights :\",w)\n",
        "Y_hat = Predict_y(b,w,X)\n",
        "b,w  = update_beta(X,Y,Y_hat,b,w,0.01)\n",
        "print(\"After first update - Bias :\",b,\" Weights :\",w)"
      ],
      "execution_count": null,
      "outputs": [
        {
          "output_type": "stream",
          "text": [
            "After Initialization - Bias : 0.6394267984578837  Weights : [0.37454012 0.95071431 0.73199394]\n",
            "After first update - Bias : 0.6266382624887261  Weights : [0.38079093 0.9376953  0.71484883]\n"
          ],
          "name": "stdout"
        }
      ]
    },
    {
      "cell_type": "markdown",
      "metadata": {
        "id": "zhjjfeZtzpz9"
      },
      "source": [
        "# Finding optimal bias and weights\n",
        "\n",
        "1. Run a fixed number of iterations and use the bias and weights as optimal values at the end these iterations.\n",
        "2. Run iterations until the change in cost is small, that is  less than a predefined value"
      ]
    },
    {
      "cell_type": "code",
      "metadata": {
        "id": "GC1NGgsVp6pe"
      },
      "source": [
        "def run_gradient_descent(X,\n",
        "                         Y,\n",
        "                         alpha = 0.01,\n",
        "                         num_iterations =100):\n",
        "  b,w = initialize(X.shape[1])\n",
        "\n",
        "  iter_num =0\n",
        "  gd_iterations_df = pd.DataFrame(columns= ['iteration','cost'])\n",
        "  result_idx = 0\n",
        "\n",
        "  for each_iter in range(num_iterations):\n",
        "    Y_hat = Predict_y(b,w,X)\n",
        "    this_cost = get_cost(Y,Y_hat)\n",
        "    prev_b = b\n",
        "    prev_w = w\n",
        "    b,w = update_beta(X,Y,Y_hat,prev_b,prev_w,alpha)\n",
        "\n",
        "    if(iter_num %10 == 0):\n",
        "      gd_iterations_df.loc[result_idx] = [iter_num,this_cost]\n",
        "      result_idx = result_idx + 1\n",
        "    \n",
        "    iter_num +=1\n",
        "  print(\"Final estimate of b and w:\",b,w)\n",
        "\n",
        "  return gd_iterations_df, b,w"
      ],
      "execution_count": null,
      "outputs": []
    },
    {
      "cell_type": "code",
      "metadata": {
        "colab": {
          "base_uri": "https://localhost:8080/"
        },
        "id": "n398u3OE2zMV",
        "outputId": "c9049e31-3f32-4281-f288-5c0610960863"
      },
      "source": [
        "gd_iterration_df,b,w  = run_gradient_descent(X,Y,alpha=0.001,num_iterations=200)"
      ],
      "execution_count": null,
      "outputs": [
        {
          "output_type": "stream",
          "text": [
            "Final estimate of b and w: 0.4284489581739148 [0.48270238 0.75265969 0.46109174]\n"
          ],
          "name": "stdout"
        }
      ]
    },
    {
      "cell_type": "code",
      "metadata": {
        "colab": {
          "base_uri": "https://localhost:8080/",
          "height": 359
        },
        "id": "16U__se93Cfe",
        "outputId": "73815443-f00b-4bae-fb22-87e074acaedf"
      },
      "source": [
        "gd_iterration_df[10:20]"
      ],
      "execution_count": null,
      "outputs": [
        {
          "output_type": "execute_result",
          "data": {
            "text/html": [
              "<div>\n",
              "<style scoped>\n",
              "    .dataframe tbody tr th:only-of-type {\n",
              "        vertical-align: middle;\n",
              "    }\n",
              "\n",
              "    .dataframe tbody tr th {\n",
              "        vertical-align: top;\n",
              "    }\n",
              "\n",
              "    .dataframe thead th {\n",
              "        text-align: right;\n",
              "    }\n",
              "</style>\n",
              "<table border=\"1\" class=\"dataframe\">\n",
              "  <thead>\n",
              "    <tr style=\"text-align: right;\">\n",
              "      <th></th>\n",
              "      <th>iteration</th>\n",
              "      <th>cost</th>\n",
              "    </tr>\n",
              "  </thead>\n",
              "  <tbody>\n",
              "    <tr>\n",
              "      <th>10</th>\n",
              "      <td>100.0</td>\n",
              "      <td>1.000444</td>\n",
              "    </tr>\n",
              "    <tr>\n",
              "      <th>11</th>\n",
              "      <td>110.0</td>\n",
              "      <td>0.960059</td>\n",
              "    </tr>\n",
              "    <tr>\n",
              "      <th>12</th>\n",
              "      <td>120.0</td>\n",
              "      <td>0.921545</td>\n",
              "    </tr>\n",
              "    <tr>\n",
              "      <th>13</th>\n",
              "      <td>130.0</td>\n",
              "      <td>0.884812</td>\n",
              "    </tr>\n",
              "    <tr>\n",
              "      <th>14</th>\n",
              "      <td>140.0</td>\n",
              "      <td>0.849776</td>\n",
              "    </tr>\n",
              "    <tr>\n",
              "      <th>15</th>\n",
              "      <td>150.0</td>\n",
              "      <td>0.816356</td>\n",
              "    </tr>\n",
              "    <tr>\n",
              "      <th>16</th>\n",
              "      <td>160.0</td>\n",
              "      <td>0.784476</td>\n",
              "    </tr>\n",
              "    <tr>\n",
              "      <th>17</th>\n",
              "      <td>170.0</td>\n",
              "      <td>0.754063</td>\n",
              "    </tr>\n",
              "    <tr>\n",
              "      <th>18</th>\n",
              "      <td>180.0</td>\n",
              "      <td>0.725048</td>\n",
              "    </tr>\n",
              "    <tr>\n",
              "      <th>19</th>\n",
              "      <td>190.0</td>\n",
              "      <td>0.697364</td>\n",
              "    </tr>\n",
              "  </tbody>\n",
              "</table>\n",
              "</div>"
            ],
            "text/plain": [
              "    iteration      cost\n",
              "10      100.0  1.000444\n",
              "11      110.0  0.960059\n",
              "12      120.0  0.921545\n",
              "13      130.0  0.884812\n",
              "14      140.0  0.849776\n",
              "15      150.0  0.816356\n",
              "16      160.0  0.784476\n",
              "17      170.0  0.754063\n",
              "18      180.0  0.725048\n",
              "19      190.0  0.697364"
            ]
          },
          "metadata": {
            "tags": []
          },
          "execution_count": 41
        }
      ]
    },
    {
      "cell_type": "code",
      "metadata": {
        "id": "MF8_aBB93d3M"
      },
      "source": [
        "#Plotting the cost Function \n",
        "\n",
        "import seaborn as sn\n"
      ],
      "execution_count": null,
      "outputs": []
    },
    {
      "cell_type": "code",
      "metadata": {
        "colab": {
          "base_uri": "https://localhost:8080/",
          "height": 296
        },
        "id": "zaqi-VgU4aiZ",
        "outputId": "98d7b126-a105-4c6a-bc6e-ee042b20e9de"
      },
      "source": [
        "plt.plot( gd_iterration_df['iteration'],gd_iterration_df['cost'])\n",
        "plt.xlabel(\"Number of Iterations\")\n",
        "plt.ylabel(\"Cost or MSE\")"
      ],
      "execution_count": null,
      "outputs": [
        {
          "output_type": "execute_result",
          "data": {
            "text/plain": [
              "Text(0, 0.5, 'Cost or MSE')"
            ]
          },
          "metadata": {
            "tags": []
          },
          "execution_count": 43
        },
        {
          "output_type": "display_data",
          "data": {
            "image/png": "[encoded data removed]",
            "text/plain": [
              "<Figure size 432x288 with 1 Axes>"
            ]
          },
          "metadata": {
            "tags": [],
            "needs_background": "light"
          }
        }
      ]
    },
    {
      "cell_type": "code",
      "metadata": {
        "colab": {
          "base_uri": "https://localhost:8080/"
        },
        "id": "1qH4oKWW4tiw",
        "outputId": "2b00060d-4820-4621-bde9-107816fac57f"
      },
      "source": [
        "print(\"Final estimate of b and w:\",b,w)"
      ],
      "execution_count": null,
      "outputs": [
        {
          "output_type": "stream",
          "text": [
            "Final estimate of b and w: 0.4284489581739148 [0.48270238 0.75265969 0.46109174]\n"
          ],
          "name": "stdout"
        }
      ]
    },
    {
      "cell_type": "code",
      "metadata": {
        "colab": {
          "base_uri": "https://localhost:8080/"
        },
        "id": "iF7-4B8Z49Hi",
        "outputId": "9e1a5bfb-682e-4a76-95b2-be7512a4f71d"
      },
      "source": [
        "#increease cost to 0.01\n",
        "alpha_df_1,b,w  = run_gradient_descent(X,Y,alpha=0.01,num_iterations=2000)"
      ],
      "execution_count": null,
      "outputs": [
        {
          "output_type": "stream",
          "text": [
            "Final estimate of b and w: 2.7765471421782624e-16 [ 0.75306591  0.53648155 -0.00433069]\n"
          ],
          "name": "stdout"
        }
      ]
    },
    {
      "cell_type": "code",
      "metadata": {
        "colab": {
          "base_uri": "https://localhost:8080/"
        },
        "id": "IuwlVY_R5qfS",
        "outputId": "88f8d482-4f74-471b-b649-b3a0887e2bef"
      },
      "source": [
        "# cost to 0.001\n",
        "alpha_df_2,b,w  = run_gradient_descent(X,Y,alpha=0.001,num_iterations=2000)"
      ],
      "execution_count": null,
      "outputs": [
        {
          "output_type": "stream",
          "text": [
            "Final estimate of b and w: 0.011664695556930515 [0.74315125 0.52779959 0.01171703]\n"
          ],
          "name": "stdout"
        }
      ]
    },
    {
      "cell_type": "code",
      "metadata": {
        "colab": {
          "base_uri": "https://localhost:8080/",
          "height": 312
        },
        "id": "0XKwdngN51xA",
        "outputId": "dd1cc0af-564d-4400-b3d3-667f01991c45"
      },
      "source": [
        "plt.plot( alpha_df_1['iteration'],alpha_df_1['cost'],label =\"Alpha = 0.01\")\n",
        "plt.plot( alpha_df_2['iteration'],alpha_df_2['cost'],label =\"Alpha = 0.001\")\n",
        "\n",
        "plt.legend()\n",
        "plt.ylabel('Cost')\n",
        "plt.xlabel('Number of Iterations')\n",
        "plt.title('Cost vs Iterations for different alpha values')"
      ],
      "execution_count": null,
      "outputs": [
        {
          "output_type": "execute_result",
          "data": {
            "text/plain": [
              "Text(0.5, 1.0, 'Cost vs Iterations for different alpha values')"
            ]
          },
          "metadata": {
            "tags": []
          },
          "execution_count": 47
        },
        {
          "output_type": "display_data",
          "data": {
            "image/png": "[encoded data removed]",
            "text/plain": [
              "<Figure size 432x288 with 1 Axes>"
            ]
          },
          "metadata": {
            "tags": [],
            "needs_background": "light"
          }
        }
      ]
    },
    {
      "cell_type": "code",
      "metadata": {
        "id": "GZ1n_cvj6wmw"
      },
      "source": [
        ""
      ],
      "execution_count": null,
      "outputs": []
    }
  ]
}