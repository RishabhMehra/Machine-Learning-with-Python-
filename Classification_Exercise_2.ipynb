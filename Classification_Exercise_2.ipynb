{
  "nbformat": 4,
  "nbformat_minor": 0,
  "metadata": {
    "colab": {
      "name": "Classification Exercise 2",
      "provenance": [],
      "collapsed_sections": [],
      "include_colab_link": true
    },
    "kernelspec": {
      "name": "python3",
      "display_name": "Python 3"
    },
    "language_info": {
      "name": "python"
    }
  },
  "cells": [
    {
      "cell_type": "markdown",
      "metadata": {
        "id": "view-in-github",
        "colab_type": "text"
      },
      "source": [
        "<a href=\"https://colab.research.google.com/github/RishabhMehra/Machine-Learning-with-Python-/blob/Data/Classification_Exercise_2.ipynb\" target=\"_parent\"><img src=\"https://colab.research.google.com/assets/colab-badge.svg\" alt=\"Open In Colab\"/></a>"
      ]
    },
    {
      "cell_type": "code",
      "metadata": {
        "id": "ed_FrUk9fqNy"
      },
      "source": [
        "import pandas as pd\n",
        "import numpy as np\n",
        "import matplotlib.pyplot as plt\n",
        "%matplotlib inline"
      ],
      "execution_count": null,
      "outputs": []
    },
    {
      "cell_type": "code",
      "metadata": {
        "id": "ZtflEN1KhQOs"
      },
      "source": [
        "url = 'https://raw.githubusercontent.com/RishabhMehra/Machine-Learning-with-Python-/main/Data/hr_data.csv'\n",
        "\n",
        "df = pd.read_csv(url)"
      ],
      "execution_count": null,
      "outputs": []
    },
    {
      "cell_type": "code",
      "metadata": {
        "colab": {
          "base_uri": "https://localhost:8080/",
          "height": 306
        },
        "id": "WxHcGM9BlKAb",
        "outputId": "fad8b86b-274d-4079-9208-783248c3756c"
      },
      "source": [
        "df.head()"
      ],
      "execution_count": null,
      "outputs": [
        {
          "output_type": "execute_result",
          "data": {
            "text/html": [
              "<div>\n",
              "<style scoped>\n",
              "    .dataframe tbody tr th:only-of-type {\n",
              "        vertical-align: middle;\n",
              "    }\n",
              "\n",
              "    .dataframe tbody tr th {\n",
              "        vertical-align: top;\n",
              "    }\n",
              "\n",
              "    .dataframe thead th {\n",
              "        text-align: right;\n",
              "    }\n",
              "</style>\n",
              "<table border=\"1\" class=\"dataframe\">\n",
              "  <thead>\n",
              "    <tr style=\"text-align: right;\">\n",
              "      <th></th>\n",
              "      <th>SLNO</th>\n",
              "      <th>Candidate Ref</th>\n",
              "      <th>DOJ Extended</th>\n",
              "      <th>Duration to accept offer</th>\n",
              "      <th>Notice period</th>\n",
              "      <th>Offered band</th>\n",
              "      <th>Pecent hike expected in CTC</th>\n",
              "      <th>Percent hike offered in CTC</th>\n",
              "      <th>Percent difference CTC</th>\n",
              "      <th>Joining Bonus</th>\n",
              "      <th>Candidate relocate actual</th>\n",
              "      <th>Gender</th>\n",
              "      <th>Candidate Source</th>\n",
              "      <th>Rex in Yrs</th>\n",
              "      <th>LOB</th>\n",
              "      <th>Location</th>\n",
              "      <th>Age</th>\n",
              "      <th>Status</th>\n",
              "    </tr>\n",
              "  </thead>\n",
              "  <tbody>\n",
              "    <tr>\n",
              "      <th>0</th>\n",
              "      <td>1</td>\n",
              "      <td>2110407</td>\n",
              "      <td>Yes</td>\n",
              "      <td>14</td>\n",
              "      <td>30</td>\n",
              "      <td>E2</td>\n",
              "      <td>-20.79</td>\n",
              "      <td>13.16</td>\n",
              "      <td>42.86</td>\n",
              "      <td>No</td>\n",
              "      <td>No</td>\n",
              "      <td>Female</td>\n",
              "      <td>Agency</td>\n",
              "      <td>7</td>\n",
              "      <td>ERS</td>\n",
              "      <td>Noida</td>\n",
              "      <td>34</td>\n",
              "      <td>Joined</td>\n",
              "    </tr>\n",
              "    <tr>\n",
              "      <th>1</th>\n",
              "      <td>2</td>\n",
              "      <td>2112635</td>\n",
              "      <td>No</td>\n",
              "      <td>18</td>\n",
              "      <td>30</td>\n",
              "      <td>E2</td>\n",
              "      <td>50.00</td>\n",
              "      <td>320.00</td>\n",
              "      <td>180.00</td>\n",
              "      <td>No</td>\n",
              "      <td>No</td>\n",
              "      <td>Male</td>\n",
              "      <td>Employee Referral</td>\n",
              "      <td>8</td>\n",
              "      <td>INFRA</td>\n",
              "      <td>Chennai</td>\n",
              "      <td>34</td>\n",
              "      <td>Joined</td>\n",
              "    </tr>\n",
              "    <tr>\n",
              "      <th>2</th>\n",
              "      <td>3</td>\n",
              "      <td>2112838</td>\n",
              "      <td>No</td>\n",
              "      <td>3</td>\n",
              "      <td>45</td>\n",
              "      <td>E2</td>\n",
              "      <td>42.84</td>\n",
              "      <td>42.84</td>\n",
              "      <td>0.00</td>\n",
              "      <td>No</td>\n",
              "      <td>No</td>\n",
              "      <td>Male</td>\n",
              "      <td>Agency</td>\n",
              "      <td>4</td>\n",
              "      <td>INFRA</td>\n",
              "      <td>Noida</td>\n",
              "      <td>27</td>\n",
              "      <td>Joined</td>\n",
              "    </tr>\n",
              "    <tr>\n",
              "      <th>3</th>\n",
              "      <td>4</td>\n",
              "      <td>2115021</td>\n",
              "      <td>No</td>\n",
              "      <td>26</td>\n",
              "      <td>30</td>\n",
              "      <td>E2</td>\n",
              "      <td>42.84</td>\n",
              "      <td>42.84</td>\n",
              "      <td>0.00</td>\n",
              "      <td>No</td>\n",
              "      <td>No</td>\n",
              "      <td>Male</td>\n",
              "      <td>Employee Referral</td>\n",
              "      <td>4</td>\n",
              "      <td>INFRA</td>\n",
              "      <td>Noida</td>\n",
              "      <td>34</td>\n",
              "      <td>Joined</td>\n",
              "    </tr>\n",
              "    <tr>\n",
              "      <th>4</th>\n",
              "      <td>5</td>\n",
              "      <td>2115125</td>\n",
              "      <td>Yes</td>\n",
              "      <td>1</td>\n",
              "      <td>120</td>\n",
              "      <td>E2</td>\n",
              "      <td>42.59</td>\n",
              "      <td>42.59</td>\n",
              "      <td>0.00</td>\n",
              "      <td>No</td>\n",
              "      <td>Yes</td>\n",
              "      <td>Male</td>\n",
              "      <td>Employee Referral</td>\n",
              "      <td>6</td>\n",
              "      <td>INFRA</td>\n",
              "      <td>Noida</td>\n",
              "      <td>34</td>\n",
              "      <td>Joined</td>\n",
              "    </tr>\n",
              "  </tbody>\n",
              "</table>\n",
              "</div>"
            ],
            "text/plain": [
              "   SLNO  Candidate Ref DOJ Extended  ...  Location  Age  Status\n",
              "0     1        2110407          Yes  ...     Noida   34  Joined\n",
              "1     2        2112635           No  ...   Chennai   34  Joined\n",
              "2     3        2112838           No  ...     Noida   27  Joined\n",
              "3     4        2115021           No  ...     Noida   34  Joined\n",
              "4     5        2115125          Yes  ...     Noida   34  Joined\n",
              "\n",
              "[5 rows x 18 columns]"
            ]
          },
          "metadata": {
            "tags": []
          },
          "execution_count": 72
        }
      ]
    },
    {
      "cell_type": "code",
      "metadata": {
        "colab": {
          "base_uri": "https://localhost:8080/"
        },
        "id": "QQUzIgMDlLoV",
        "outputId": "5da963b3-7578-4e4c-b1c8-c02800ae1db4"
      },
      "source": [
        "df.info()"
      ],
      "execution_count": null,
      "outputs": [
        {
          "output_type": "stream",
          "text": [
            "<class 'pandas.core.frame.DataFrame'>\n",
            "RangeIndex: 8995 entries, 0 to 8994\n",
            "Data columns (total 18 columns):\n",
            " #   Column                       Non-Null Count  Dtype  \n",
            "---  ------                       --------------  -----  \n",
            " 0   SLNO                         8995 non-null   int64  \n",
            " 1   Candidate Ref                8995 non-null   int64  \n",
            " 2   DOJ Extended                 8995 non-null   object \n",
            " 3   Duration to accept offer     8995 non-null   int64  \n",
            " 4   Notice period                8995 non-null   int64  \n",
            " 5   Offered band                 8995 non-null   object \n",
            " 6   Pecent hike expected in CTC  8995 non-null   float64\n",
            " 7   Percent hike offered in CTC  8995 non-null   float64\n",
            " 8   Percent difference CTC       8995 non-null   float64\n",
            " 9   Joining Bonus                8995 non-null   object \n",
            " 10  Candidate relocate actual    8995 non-null   object \n",
            " 11  Gender                       8995 non-null   object \n",
            " 12  Candidate Source             8995 non-null   object \n",
            " 13  Rex in Yrs                   8995 non-null   int64  \n",
            " 14  LOB                          8995 non-null   object \n",
            " 15  Location                     8995 non-null   object \n",
            " 16  Age                          8995 non-null   int64  \n",
            " 17  Status                       8995 non-null   object \n",
            "dtypes: float64(3), int64(6), object(9)\n",
            "memory usage: 1.2+ MB\n"
          ],
          "name": "stdout"
        }
      ]
    },
    {
      "cell_type": "code",
      "metadata": {
        "colab": {
          "base_uri": "https://localhost:8080/"
        },
        "id": "0IAcE4JRlP83",
        "outputId": "5b7fbae7-d5fb-4ae3-9c44-fcf911527548"
      },
      "source": [
        "df['Joining Bonus'].value_counts()"
      ],
      "execution_count": null,
      "outputs": [
        {
          "output_type": "execute_result",
          "data": {
            "text/plain": [
              "No     8578\n",
              "Yes     417\n",
              "Name: Joining Bonus, dtype: int64"
            ]
          },
          "metadata": {
            "tags": []
          },
          "execution_count": 74
        }
      ]
    },
    {
      "cell_type": "code",
      "metadata": {
        "colab": {
          "base_uri": "https://localhost:8080/"
        },
        "id": "gmtsV_5jnB4V",
        "outputId": "a8fcccb8-a1ac-4b4f-877b-101c0a38f34e"
      },
      "source": [
        "df['Offered band'].value_counts()"
      ],
      "execution_count": null,
      "outputs": [
        {
          "output_type": "execute_result",
          "data": {
            "text/plain": [
              "E1    5568\n",
              "E2    2711\n",
              "E3     505\n",
              "E0     211\n",
              "Name: Offered band, dtype: int64"
            ]
          },
          "metadata": {
            "tags": []
          },
          "execution_count": 75
        }
      ]
    },
    {
      "cell_type": "code",
      "metadata": {
        "id": "nxBOPB9WnJTv"
      },
      "source": [
        "df.drop('SLNO',axis=1,inplace=True)"
      ],
      "execution_count": null,
      "outputs": []
    },
    {
      "cell_type": "code",
      "metadata": {
        "colab": {
          "base_uri": "https://localhost:8080/",
          "height": 306
        },
        "id": "rn1i7sVwnQUp",
        "outputId": "4c5ad32a-ef11-49e8-c2b1-d2873215546d"
      },
      "source": [
        "df.head()"
      ],
      "execution_count": null,
      "outputs": [
        {
          "output_type": "execute_result",
          "data": {
            "text/html": [
              "<div>\n",
              "<style scoped>\n",
              "    .dataframe tbody tr th:only-of-type {\n",
              "        vertical-align: middle;\n",
              "    }\n",
              "\n",
              "    .dataframe tbody tr th {\n",
              "        vertical-align: top;\n",
              "    }\n",
              "\n",
              "    .dataframe thead th {\n",
              "        text-align: right;\n",
              "    }\n",
              "</style>\n",
              "<table border=\"1\" class=\"dataframe\">\n",
              "  <thead>\n",
              "    <tr style=\"text-align: right;\">\n",
              "      <th></th>\n",
              "      <th>Candidate Ref</th>\n",
              "      <th>DOJ Extended</th>\n",
              "      <th>Duration to accept offer</th>\n",
              "      <th>Notice period</th>\n",
              "      <th>Offered band</th>\n",
              "      <th>Pecent hike expected in CTC</th>\n",
              "      <th>Percent hike offered in CTC</th>\n",
              "      <th>Percent difference CTC</th>\n",
              "      <th>Joining Bonus</th>\n",
              "      <th>Candidate relocate actual</th>\n",
              "      <th>Gender</th>\n",
              "      <th>Candidate Source</th>\n",
              "      <th>Rex in Yrs</th>\n",
              "      <th>LOB</th>\n",
              "      <th>Location</th>\n",
              "      <th>Age</th>\n",
              "      <th>Status</th>\n",
              "    </tr>\n",
              "  </thead>\n",
              "  <tbody>\n",
              "    <tr>\n",
              "      <th>0</th>\n",
              "      <td>2110407</td>\n",
              "      <td>Yes</td>\n",
              "      <td>14</td>\n",
              "      <td>30</td>\n",
              "      <td>E2</td>\n",
              "      <td>-20.79</td>\n",
              "      <td>13.16</td>\n",
              "      <td>42.86</td>\n",
              "      <td>No</td>\n",
              "      <td>No</td>\n",
              "      <td>Female</td>\n",
              "      <td>Agency</td>\n",
              "      <td>7</td>\n",
              "      <td>ERS</td>\n",
              "      <td>Noida</td>\n",
              "      <td>34</td>\n",
              "      <td>Joined</td>\n",
              "    </tr>\n",
              "    <tr>\n",
              "      <th>1</th>\n",
              "      <td>2112635</td>\n",
              "      <td>No</td>\n",
              "      <td>18</td>\n",
              "      <td>30</td>\n",
              "      <td>E2</td>\n",
              "      <td>50.00</td>\n",
              "      <td>320.00</td>\n",
              "      <td>180.00</td>\n",
              "      <td>No</td>\n",
              "      <td>No</td>\n",
              "      <td>Male</td>\n",
              "      <td>Employee Referral</td>\n",
              "      <td>8</td>\n",
              "      <td>INFRA</td>\n",
              "      <td>Chennai</td>\n",
              "      <td>34</td>\n",
              "      <td>Joined</td>\n",
              "    </tr>\n",
              "    <tr>\n",
              "      <th>2</th>\n",
              "      <td>2112838</td>\n",
              "      <td>No</td>\n",
              "      <td>3</td>\n",
              "      <td>45</td>\n",
              "      <td>E2</td>\n",
              "      <td>42.84</td>\n",
              "      <td>42.84</td>\n",
              "      <td>0.00</td>\n",
              "      <td>No</td>\n",
              "      <td>No</td>\n",
              "      <td>Male</td>\n",
              "      <td>Agency</td>\n",
              "      <td>4</td>\n",
              "      <td>INFRA</td>\n",
              "      <td>Noida</td>\n",
              "      <td>27</td>\n",
              "      <td>Joined</td>\n",
              "    </tr>\n",
              "    <tr>\n",
              "      <th>3</th>\n",
              "      <td>2115021</td>\n",
              "      <td>No</td>\n",
              "      <td>26</td>\n",
              "      <td>30</td>\n",
              "      <td>E2</td>\n",
              "      <td>42.84</td>\n",
              "      <td>42.84</td>\n",
              "      <td>0.00</td>\n",
              "      <td>No</td>\n",
              "      <td>No</td>\n",
              "      <td>Male</td>\n",
              "      <td>Employee Referral</td>\n",
              "      <td>4</td>\n",
              "      <td>INFRA</td>\n",
              "      <td>Noida</td>\n",
              "      <td>34</td>\n",
              "      <td>Joined</td>\n",
              "    </tr>\n",
              "    <tr>\n",
              "      <th>4</th>\n",
              "      <td>2115125</td>\n",
              "      <td>Yes</td>\n",
              "      <td>1</td>\n",
              "      <td>120</td>\n",
              "      <td>E2</td>\n",
              "      <td>42.59</td>\n",
              "      <td>42.59</td>\n",
              "      <td>0.00</td>\n",
              "      <td>No</td>\n",
              "      <td>Yes</td>\n",
              "      <td>Male</td>\n",
              "      <td>Employee Referral</td>\n",
              "      <td>6</td>\n",
              "      <td>INFRA</td>\n",
              "      <td>Noida</td>\n",
              "      <td>34</td>\n",
              "      <td>Joined</td>\n",
              "    </tr>\n",
              "  </tbody>\n",
              "</table>\n",
              "</div>"
            ],
            "text/plain": [
              "   Candidate Ref DOJ Extended  Duration to accept offer  ...  Location Age  Status\n",
              "0        2110407          Yes                        14  ...     Noida  34  Joined\n",
              "1        2112635           No                        18  ...   Chennai  34  Joined\n",
              "2        2112838           No                         3  ...     Noida  27  Joined\n",
              "3        2115021           No                        26  ...     Noida  34  Joined\n",
              "4        2115125          Yes                         1  ...     Noida  34  Joined\n",
              "\n",
              "[5 rows x 17 columns]"
            ]
          },
          "metadata": {
            "tags": []
          },
          "execution_count": 77
        }
      ]
    },
    {
      "cell_type": "code",
      "metadata": {
        "colab": {
          "base_uri": "https://localhost:8080/"
        },
        "id": "inrIBlc5nWS7",
        "outputId": "ab447dd2-013e-47fb-ebcf-def9f7a3ee7a"
      },
      "source": [
        "X_features = df.columns.to_list()\n",
        "X_features= [x for x in X_features if x not in ['Candidate Ref','Status'] ]\n",
        "X_features"
      ],
      "execution_count": null,
      "outputs": [
        {
          "output_type": "execute_result",
          "data": {
            "text/plain": [
              "['DOJ Extended',\n",
              " 'Duration to accept offer',\n",
              " 'Notice period',\n",
              " 'Offered band',\n",
              " 'Pecent hike expected in CTC',\n",
              " 'Percent hike offered in CTC',\n",
              " 'Percent difference CTC',\n",
              " 'Joining Bonus',\n",
              " 'Candidate relocate actual',\n",
              " 'Gender',\n",
              " 'Candidate Source',\n",
              " 'Rex in Yrs',\n",
              " 'LOB',\n",
              " 'Location',\n",
              " 'Age']"
            ]
          },
          "metadata": {
            "tags": []
          },
          "execution_count": 78
        }
      ]
    },
    {
      "cell_type": "code",
      "metadata": {
        "id": "P4wLyoPRno4o"
      },
      "source": [
        "encoded_df =  pd.get_dummies(df[X_features],drop_first=True)\n"
      ],
      "execution_count": null,
      "outputs": []
    },
    {
      "cell_type": "code",
      "metadata": {
        "colab": {
          "base_uri": "https://localhost:8080/"
        },
        "id": "dzuvcWfguDT1",
        "outputId": "4c34c188-9b6a-435e-d764-e79e08d57513"
      },
      "source": [
        "encoded_df.info()"
      ],
      "execution_count": null,
      "outputs": [
        {
          "output_type": "stream",
          "text": [
            "<class 'pandas.core.frame.DataFrame'>\n",
            "RangeIndex: 8995 entries, 0 to 8994\n",
            "Data columns (total 34 columns):\n",
            " #   Column                              Non-Null Count  Dtype  \n",
            "---  ------                              --------------  -----  \n",
            " 0   Duration to accept offer            8995 non-null   int64  \n",
            " 1   Notice period                       8995 non-null   int64  \n",
            " 2   Pecent hike expected in CTC         8995 non-null   float64\n",
            " 3   Percent hike offered in CTC         8995 non-null   float64\n",
            " 4   Percent difference CTC              8995 non-null   float64\n",
            " 5   Rex in Yrs                          8995 non-null   int64  \n",
            " 6   Age                                 8995 non-null   int64  \n",
            " 7   DOJ Extended_Yes                    8995 non-null   uint8  \n",
            " 8   Offered band_E1                     8995 non-null   uint8  \n",
            " 9   Offered band_E2                     8995 non-null   uint8  \n",
            " 10  Offered band_E3                     8995 non-null   uint8  \n",
            " 11  Joining Bonus_Yes                   8995 non-null   uint8  \n",
            " 12  Candidate relocate actual_Yes       8995 non-null   uint8  \n",
            " 13  Gender_Male                         8995 non-null   uint8  \n",
            " 14  Candidate Source_Direct             8995 non-null   uint8  \n",
            " 15  Candidate Source_Employee Referral  8995 non-null   uint8  \n",
            " 16  LOB_BFSI                            8995 non-null   uint8  \n",
            " 17  LOB_CSMP                            8995 non-null   uint8  \n",
            " 18  LOB_EAS                             8995 non-null   uint8  \n",
            " 19  LOB_ERS                             8995 non-null   uint8  \n",
            " 20  LOB_ETS                             8995 non-null   uint8  \n",
            " 21  LOB_Healthcare                      8995 non-null   uint8  \n",
            " 22  LOB_INFRA                           8995 non-null   uint8  \n",
            " 23  LOB_MMS                             8995 non-null   uint8  \n",
            " 24  Location_Bangalore                  8995 non-null   uint8  \n",
            " 25  Location_Chennai                    8995 non-null   uint8  \n",
            " 26  Location_Cochin                     8995 non-null   uint8  \n",
            " 27  Location_Gurgaon                    8995 non-null   uint8  \n",
            " 28  Location_Hyderabad                  8995 non-null   uint8  \n",
            " 29  Location_Kolkata                    8995 non-null   uint8  \n",
            " 30  Location_Mumbai                     8995 non-null   uint8  \n",
            " 31  Location_Noida                      8995 non-null   uint8  \n",
            " 32  Location_Others                     8995 non-null   uint8  \n",
            " 33  Location_Pune                       8995 non-null   uint8  \n",
            "dtypes: float64(3), int64(4), uint8(27)\n",
            "memory usage: 729.2 KB\n"
          ],
          "name": "stdout"
        }
      ]
    },
    {
      "cell_type": "code",
      "metadata": {
        "id": "QNRV-aN9u4c8"
      },
      "source": [
        "df['Status'] = df['Status'].apply(lambda x: 1 if x=='Joined' else 0)"
      ],
      "execution_count": null,
      "outputs": []
    },
    {
      "cell_type": "code",
      "metadata": {
        "colab": {
          "base_uri": "https://localhost:8080/"
        },
        "id": "AEQNkMt1vPi1",
        "outputId": "93458098-1741-4f38-fd21-50f4e0ab4f47"
      },
      "source": [
        "df['Status'].value_counts()"
      ],
      "execution_count": null,
      "outputs": [
        {
          "output_type": "execute_result",
          "data": {
            "text/plain": [
              "1    7313\n",
              "0    1682\n",
              "Name: Status, dtype: int64"
            ]
          },
          "metadata": {
            "tags": []
          },
          "execution_count": 82
        }
      ]
    },
    {
      "cell_type": "code",
      "metadata": {
        "id": "BcOxlkPAvkJL",
        "colab": {
          "base_uri": "https://localhost:8080/"
        },
        "outputId": "48e7b19f-ff8c-4747-84c3-d9b5dbbfc95a"
      },
      "source": [
        "df.isna().sum()"
      ],
      "execution_count": null,
      "outputs": [
        {
          "output_type": "execute_result",
          "data": {
            "text/plain": [
              "Candidate Ref                  0\n",
              "DOJ Extended                   0\n",
              "Duration to accept offer       0\n",
              "Notice period                  0\n",
              "Offered band                   0\n",
              "Pecent hike expected in CTC    0\n",
              "Percent hike offered in CTC    0\n",
              "Percent difference CTC         0\n",
              "Joining Bonus                  0\n",
              "Candidate relocate actual      0\n",
              "Gender                         0\n",
              "Candidate Source               0\n",
              "Rex in Yrs                     0\n",
              "LOB                            0\n",
              "Location                       0\n",
              "Age                            0\n",
              "Status                         0\n",
              "dtype: int64"
            ]
          },
          "metadata": {
            "tags": []
          },
          "execution_count": 83
        }
      ]
    },
    {
      "cell_type": "code",
      "metadata": {
        "id": "WnuAgnfcsldq",
        "colab": {
          "base_uri": "https://localhost:8080/"
        },
        "outputId": "dcbab879-a41f-488f-fe91-ee3a958864a7"
      },
      "source": [
        "df.info()"
      ],
      "execution_count": null,
      "outputs": [
        {
          "output_type": "stream",
          "text": [
            "<class 'pandas.core.frame.DataFrame'>\n",
            "RangeIndex: 8995 entries, 0 to 8994\n",
            "Data columns (total 17 columns):\n",
            " #   Column                       Non-Null Count  Dtype  \n",
            "---  ------                       --------------  -----  \n",
            " 0   Candidate Ref                8995 non-null   int64  \n",
            " 1   DOJ Extended                 8995 non-null   object \n",
            " 2   Duration to accept offer     8995 non-null   int64  \n",
            " 3   Notice period                8995 non-null   int64  \n",
            " 4   Offered band                 8995 non-null   object \n",
            " 5   Pecent hike expected in CTC  8995 non-null   float64\n",
            " 6   Percent hike offered in CTC  8995 non-null   float64\n",
            " 7   Percent difference CTC       8995 non-null   float64\n",
            " 8   Joining Bonus                8995 non-null   object \n",
            " 9   Candidate relocate actual    8995 non-null   object \n",
            " 10  Gender                       8995 non-null   object \n",
            " 11  Candidate Source             8995 non-null   object \n",
            " 12  Rex in Yrs                   8995 non-null   int64  \n",
            " 13  LOB                          8995 non-null   object \n",
            " 14  Location                     8995 non-null   object \n",
            " 15  Age                          8995 non-null   int64  \n",
            " 16  Status                       8995 non-null   int64  \n",
            "dtypes: float64(3), int64(6), object(8)\n",
            "memory usage: 1.2+ MB\n"
          ],
          "name": "stdout"
        }
      ]
    },
    {
      "cell_type": "code",
      "metadata": {
        "id": "wMpZrQhnq4aK"
      },
      "source": [
        ""
      ],
      "execution_count": null,
      "outputs": []
    },
    {
      "cell_type": "code",
      "metadata": {
        "id": "aIiiqnX5v7yI"
      },
      "source": [
        "import seaborn as sns\n",
        "#plt.figure(figsize=(30,20))\n",
        "#sns.heatmap(X_train.corr(),annot=True,cmap='coolwarm')"
      ],
      "execution_count": null,
      "outputs": []
    },
    {
      "cell_type": "code",
      "metadata": {
        "colab": {
          "base_uri": "https://localhost:8080/",
          "height": 1000
        },
        "id": "RPV9oop49eta",
        "outputId": "518d4168-fe99-4815-a238-81dfe72180ed"
      },
      "source": [
        "from statsmodels.stats.outliers_influence import variance_inflation_factor\n",
        "\n",
        "def get_vit_factors(X):\n",
        "  vif_factors = pd.DataFrame()\n",
        "  vif_factors['column'] =X.columns\n",
        "  vif_factors['VIF'] = [variance_inflation_factor(X.values,i) for i in range(X.shape[1])]\n",
        "  return vif_factors\n",
        "\n",
        "\n",
        "\n",
        "vif_factors = get_vit_factors(encoded_df)\n",
        "vif_factors"
      ],
      "execution_count": null,
      "outputs": [
        {
          "output_type": "execute_result",
          "data": {
            "text/html": [
              "<div>\n",
              "<style scoped>\n",
              "    .dataframe tbody tr th:only-of-type {\n",
              "        vertical-align: middle;\n",
              "    }\n",
              "\n",
              "    .dataframe tbody tr th {\n",
              "        vertical-align: top;\n",
              "    }\n",
              "\n",
              "    .dataframe thead th {\n",
              "        text-align: right;\n",
              "    }\n",
              "</style>\n",
              "<table border=\"1\" class=\"dataframe\">\n",
              "  <thead>\n",
              "    <tr style=\"text-align: right;\">\n",
              "      <th></th>\n",
              "      <th>column</th>\n",
              "      <th>VIF</th>\n",
              "    </tr>\n",
              "  </thead>\n",
              "  <tbody>\n",
              "    <tr>\n",
              "      <th>0</th>\n",
              "      <td>Duration to accept offer</td>\n",
              "      <td>2.252260</td>\n",
              "    </tr>\n",
              "    <tr>\n",
              "      <th>1</th>\n",
              "      <td>Notice period</td>\n",
              "      <td>5.113223</td>\n",
              "    </tr>\n",
              "    <tr>\n",
              "      <th>2</th>\n",
              "      <td>Pecent hike expected in CTC</td>\n",
              "      <td>52.897129</td>\n",
              "    </tr>\n",
              "    <tr>\n",
              "      <th>3</th>\n",
              "      <td>Percent hike offered in CTC</td>\n",
              "      <td>57.019709</td>\n",
              "    </tr>\n",
              "    <tr>\n",
              "      <th>4</th>\n",
              "      <td>Percent difference CTC</td>\n",
              "      <td>14.333705</td>\n",
              "    </tr>\n",
              "    <tr>\n",
              "      <th>5</th>\n",
              "      <td>Rex in Yrs</td>\n",
              "      <td>11.568641</td>\n",
              "    </tr>\n",
              "    <tr>\n",
              "      <th>6</th>\n",
              "      <td>Age</td>\n",
              "      <td>82.288149</td>\n",
              "    </tr>\n",
              "    <tr>\n",
              "      <th>7</th>\n",
              "      <td>DOJ Extended_Yes</td>\n",
              "      <td>2.294047</td>\n",
              "    </tr>\n",
              "    <tr>\n",
              "      <th>8</th>\n",
              "      <td>Offered band_E1</td>\n",
              "      <td>31.652216</td>\n",
              "    </tr>\n",
              "    <tr>\n",
              "      <th>9</th>\n",
              "      <td>Offered band_E2</td>\n",
              "      <td>18.235493</td>\n",
              "    </tr>\n",
              "    <tr>\n",
              "      <th>10</th>\n",
              "      <td>Offered band_E3</td>\n",
              "      <td>5.275144</td>\n",
              "    </tr>\n",
              "    <tr>\n",
              "      <th>11</th>\n",
              "      <td>Joining Bonus_Yes</td>\n",
              "      <td>1.129596</td>\n",
              "    </tr>\n",
              "    <tr>\n",
              "      <th>12</th>\n",
              "      <td>Candidate relocate actual_Yes</td>\n",
              "      <td>1.240863</td>\n",
              "    </tr>\n",
              "    <tr>\n",
              "      <th>13</th>\n",
              "      <td>Gender_Male</td>\n",
              "      <td>6.088535</td>\n",
              "    </tr>\n",
              "    <tr>\n",
              "      <th>14</th>\n",
              "      <td>Candidate Source_Direct</td>\n",
              "      <td>3.158478</td>\n",
              "    </tr>\n",
              "    <tr>\n",
              "      <th>15</th>\n",
              "      <td>Candidate Source_Employee Referral</td>\n",
              "      <td>1.768695</td>\n",
              "    </tr>\n",
              "    <tr>\n",
              "      <th>16</th>\n",
              "      <td>LOB_BFSI</td>\n",
              "      <td>4.164888</td>\n",
              "    </tr>\n",
              "    <tr>\n",
              "      <th>17</th>\n",
              "      <td>LOB_CSMP</td>\n",
              "      <td>2.135004</td>\n",
              "    </tr>\n",
              "    <tr>\n",
              "      <th>18</th>\n",
              "      <td>LOB_EAS</td>\n",
              "      <td>1.745519</td>\n",
              "    </tr>\n",
              "    <tr>\n",
              "      <th>19</th>\n",
              "      <td>LOB_ERS</td>\n",
              "      <td>6.232051</td>\n",
              "    </tr>\n",
              "    <tr>\n",
              "      <th>20</th>\n",
              "      <td>LOB_ETS</td>\n",
              "      <td>2.341327</td>\n",
              "    </tr>\n",
              "    <tr>\n",
              "      <th>21</th>\n",
              "      <td>LOB_Healthcare</td>\n",
              "      <td>1.256467</td>\n",
              "    </tr>\n",
              "    <tr>\n",
              "      <th>22</th>\n",
              "      <td>LOB_INFRA</td>\n",
              "      <td>7.843838</td>\n",
              "    </tr>\n",
              "    <tr>\n",
              "      <th>23</th>\n",
              "      <td>LOB_MMS</td>\n",
              "      <td>1.036555</td>\n",
              "    </tr>\n",
              "    <tr>\n",
              "      <th>24</th>\n",
              "      <td>Location_Bangalore</td>\n",
              "      <td>31.928167</td>\n",
              "    </tr>\n",
              "    <tr>\n",
              "      <th>25</th>\n",
              "      <td>Location_Chennai</td>\n",
              "      <td>44.980886</td>\n",
              "    </tr>\n",
              "    <tr>\n",
              "      <th>26</th>\n",
              "      <td>Location_Cochin</td>\n",
              "      <td>1.128600</td>\n",
              "    </tr>\n",
              "    <tr>\n",
              "      <th>27</th>\n",
              "      <td>Location_Gurgaon</td>\n",
              "      <td>3.082531</td>\n",
              "    </tr>\n",
              "    <tr>\n",
              "      <th>28</th>\n",
              "      <td>Location_Hyderabad</td>\n",
              "      <td>5.690303</td>\n",
              "    </tr>\n",
              "    <tr>\n",
              "      <th>29</th>\n",
              "      <td>Location_Kolkata</td>\n",
              "      <td>2.669167</td>\n",
              "    </tr>\n",
              "    <tr>\n",
              "      <th>30</th>\n",
              "      <td>Location_Mumbai</td>\n",
              "      <td>3.995478</td>\n",
              "    </tr>\n",
              "    <tr>\n",
              "      <th>31</th>\n",
              "      <td>Location_Noida</td>\n",
              "      <td>38.020688</td>\n",
              "    </tr>\n",
              "    <tr>\n",
              "      <th>32</th>\n",
              "      <td>Location_Others</td>\n",
              "      <td>1.213024</td>\n",
              "    </tr>\n",
              "    <tr>\n",
              "      <th>33</th>\n",
              "      <td>Location_Pune</td>\n",
              "      <td>1.704000</td>\n",
              "    </tr>\n",
              "  </tbody>\n",
              "</table>\n",
              "</div>"
            ],
            "text/plain": [
              "                                column        VIF\n",
              "0             Duration to accept offer   2.252260\n",
              "1                        Notice period   5.113223\n",
              "2          Pecent hike expected in CTC  52.897129\n",
              "3          Percent hike offered in CTC  57.019709\n",
              "4               Percent difference CTC  14.333705\n",
              "5                           Rex in Yrs  11.568641\n",
              "6                                  Age  82.288149\n",
              "7                     DOJ Extended_Yes   2.294047\n",
              "8                      Offered band_E1  31.652216\n",
              "9                      Offered band_E2  18.235493\n",
              "10                     Offered band_E3   5.275144\n",
              "11                   Joining Bonus_Yes   1.129596\n",
              "12       Candidate relocate actual_Yes   1.240863\n",
              "13                         Gender_Male   6.088535\n",
              "14             Candidate Source_Direct   3.158478\n",
              "15  Candidate Source_Employee Referral   1.768695\n",
              "16                            LOB_BFSI   4.164888\n",
              "17                            LOB_CSMP   2.135004\n",
              "18                             LOB_EAS   1.745519\n",
              "19                             LOB_ERS   6.232051\n",
              "20                             LOB_ETS   2.341327\n",
              "21                      LOB_Healthcare   1.256467\n",
              "22                           LOB_INFRA   7.843838\n",
              "23                             LOB_MMS   1.036555\n",
              "24                  Location_Bangalore  31.928167\n",
              "25                    Location_Chennai  44.980886\n",
              "26                     Location_Cochin   1.128600\n",
              "27                    Location_Gurgaon   3.082531\n",
              "28                  Location_Hyderabad   5.690303\n",
              "29                    Location_Kolkata   2.669167\n",
              "30                     Location_Mumbai   3.995478\n",
              "31                      Location_Noida  38.020688\n",
              "32                     Location_Others   1.213024\n",
              "33                       Location_Pune   1.704000"
            ]
          },
          "metadata": {
            "tags": []
          },
          "execution_count": 86
        }
      ]
    },
    {
      "cell_type": "code",
      "metadata": {
        "id": "b4vAYvXa2Hhq"
      },
      "source": [
        "#vif_5 = vif_factors['VIF']<5\n",
        "\n",
        "#vif_factors = vif_factors[vif_5]\n",
        "\n",
        "  \n",
        "\n",
        "#sigificant_column= vif_factors.column\n",
        "#encoded_df.drop(remove_factors,axis=1,inplace=True)"
      ],
      "execution_count": null,
      "outputs": []
    },
    {
      "cell_type": "code",
      "metadata": {
        "colab": {
          "base_uri": "https://localhost:8080/"
        },
        "id": "_tju9_1t08_B",
        "outputId": "3c40ff25-e318-49bc-f782-0065150bfd49"
      },
      "source": [
        "\n",
        "\n",
        "import statsmodels.api as sm\n",
        "\n",
        "#encoded_df =encoded_df[sigificant_column]\n",
        "\n",
        "X = sm.add_constant(encoded_df)\n",
        "y = df['Status']\n",
        "\n",
        "\n",
        "\n",
        "print (X.columns)"
      ],
      "execution_count": null,
      "outputs": [
        {
          "output_type": "stream",
          "text": [
            "Index(['const', 'Duration to accept offer', 'Notice period',\n",
            "       'Pecent hike expected in CTC', 'Percent hike offered in CTC',\n",
            "       'Percent difference CTC', 'Rex in Yrs', 'Age', 'DOJ Extended_Yes',\n",
            "       'Offered band_E1', 'Offered band_E2', 'Offered band_E3',\n",
            "       'Joining Bonus_Yes', 'Candidate relocate actual_Yes', 'Gender_Male',\n",
            "       'Candidate Source_Direct', 'Candidate Source_Employee Referral',\n",
            "       'LOB_BFSI', 'LOB_CSMP', 'LOB_EAS', 'LOB_ERS', 'LOB_ETS',\n",
            "       'LOB_Healthcare', 'LOB_INFRA', 'LOB_MMS', 'Location_Bangalore',\n",
            "       'Location_Chennai', 'Location_Cochin', 'Location_Gurgaon',\n",
            "       'Location_Hyderabad', 'Location_Kolkata', 'Location_Mumbai',\n",
            "       'Location_Noida', 'Location_Others', 'Location_Pune'],\n",
            "      dtype='object')\n"
          ],
          "name": "stdout"
        }
      ]
    },
    {
      "cell_type": "code",
      "metadata": {
        "id": "hswBkT-46_EF"
      },
      "source": [
        "from sklearn.model_selection import train_test_split\n",
        "\n",
        "X_train, X_test,y_train,y_test = train_test_split(X,y,test_size =0.3,random_state = 50)"
      ],
      "execution_count": null,
      "outputs": []
    },
    {
      "cell_type": "code",
      "metadata": {
        "colab": {
          "base_uri": "https://localhost:8080/"
        },
        "id": "J3k-efVE7Oqh",
        "outputId": "8d8c9674-5612-4eff-a36a-344f2555b668"
      },
      "source": [
        "X_train.columns\n",
        "\n",
        "y_train.value_counts()"
      ],
      "execution_count": null,
      "outputs": [
        {
          "output_type": "execute_result",
          "data": {
            "text/plain": [
              "1    5101\n",
              "0    1195\n",
              "Name: Status, dtype: int64"
            ]
          },
          "metadata": {
            "tags": []
          },
          "execution_count": 90
        }
      ]
    },
    {
      "cell_type": "code",
      "metadata": {
        "colab": {
          "base_uri": "https://localhost:8080/"
        },
        "id": "sWxoxXfVKZSk",
        "outputId": "8880461b-bce2-4f1b-ba8e-7298b670ac02"
      },
      "source": [
        "X_train.shape"
      ],
      "execution_count": null,
      "outputs": [
        {
          "output_type": "execute_result",
          "data": {
            "text/plain": [
              "(6296, 35)"
            ]
          },
          "metadata": {
            "tags": []
          },
          "execution_count": 91
        }
      ]
    },
    {
      "cell_type": "code",
      "metadata": {
        "colab": {
          "base_uri": "https://localhost:8080/"
        },
        "id": "cvMTezuUKpMx",
        "outputId": "5df5bf65-2600-457a-fa24-3c02bfe6f172"
      },
      "source": [
        "y_train.shape"
      ],
      "execution_count": null,
      "outputs": [
        {
          "output_type": "execute_result",
          "data": {
            "text/plain": [
              "(6296,)"
            ]
          },
          "metadata": {
            "tags": []
          },
          "execution_count": 92
        }
      ]
    },
    {
      "cell_type": "code",
      "metadata": {
        "colab": {
          "base_uri": "https://localhost:8080/"
        },
        "id": "EaivxTyrLyrK",
        "outputId": "d5ab6db0-e03f-4091-e062-a52e60a082fe"
      },
      "source": [
        "y.shape"
      ],
      "execution_count": null,
      "outputs": [
        {
          "output_type": "execute_result",
          "data": {
            "text/plain": [
              "(8995,)"
            ]
          },
          "metadata": {
            "tags": []
          },
          "execution_count": 93
        }
      ]
    },
    {
      "cell_type": "code",
      "metadata": {
        "colab": {
          "base_uri": "https://localhost:8080/"
        },
        "id": "J_-sU6GDL1Q5",
        "outputId": "44d737d1-993b-4c80-f1e8-1f105c1aabc0"
      },
      "source": [
        "X.shape"
      ],
      "execution_count": null,
      "outputs": [
        {
          "output_type": "execute_result",
          "data": {
            "text/plain": [
              "(8995, 35)"
            ]
          },
          "metadata": {
            "tags": []
          },
          "execution_count": 94
        }
      ]
    },
    {
      "cell_type": "code",
      "metadata": {
        "colab": {
          "base_uri": "https://localhost:8080/"
        },
        "id": "vrbjgjl-rAXe",
        "outputId": "c0ede7cf-0cb6-4fbd-fdaa-7fbc569f38a1"
      },
      "source": [
        "logist = sm.Logit(y_train,X_train)\n",
        "logist_model_1 = logist.fit()"
      ],
      "execution_count": null,
      "outputs": [
        {
          "output_type": "stream",
          "text": [
            "Warning: Maximum number of iterations has been exceeded.\n",
            "         Current function value: 0.418178\n",
            "         Iterations: 35\n"
          ],
          "name": "stdout"
        },
        {
          "output_type": "stream",
          "text": [
            "/usr/local/lib/python3.7/dist-packages/statsmodels/base/model.py:512: ConvergenceWarning: Maximum Likelihood optimization failed to converge. Check mle_retvals\n",
            "  \"Check mle_retvals\", ConvergenceWarning)\n"
          ],
          "name": "stderr"
        }
      ]
    },
    {
      "cell_type": "code",
      "metadata": {
        "id": "_bXj9IrvLejb"
      },
      "source": [
        "y_pred_train=logist_model_1.predict(X_train)"
      ],
      "execution_count": null,
      "outputs": []
    },
    {
      "cell_type": "code",
      "metadata": {
        "id": "p1Wq2H_xOPpS"
      },
      "source": [
        "y_pred_train=y_pred_train.apply(lambda x: 1 if x>0.3 else 0)"
      ],
      "execution_count": null,
      "outputs": []
    },
    {
      "cell_type": "code",
      "metadata": {
        "colab": {
          "base_uri": "https://localhost:8080/"
        },
        "id": "wI8osv-3Obnu",
        "outputId": "a1bf6b8f-9531-422b-9df2-389ec997e539"
      },
      "source": [
        "from sklearn.metrics import confusion_matrix\n",
        "cm=confusion_matrix(y_train,y_pred_train)\n",
        "print(cm)"
      ],
      "execution_count": null,
      "outputs": [
        {
          "output_type": "stream",
          "text": [
            "[[   1 1194]\n",
            " [   0 5101]]\n"
          ],
          "name": "stdout"
        }
      ]
    },
    {
      "cell_type": "code",
      "metadata": {
        "id": "s4pJDkDHOm3S",
        "colab": {
          "base_uri": "https://localhost:8080/",
          "height": 945
        },
        "outputId": "835886ef-ff43-4a93-f851-8129ddd245d4"
      },
      "source": [
        "logist_model_1.summary2()"
      ],
      "execution_count": null,
      "outputs": [
        {
          "output_type": "execute_result",
          "data": {
            "text/html": [
              "<table class=\"simpletable\">\n",
              "<tr>\n",
              "        <td>Model:</td>              <td>Logit</td>      <td>Pseudo R-squared:</td>    <td>0.139</td>   \n",
              "</tr>\n",
              "<tr>\n",
              "  <td>Dependent Variable:</td>      <td>Status</td>            <td>AIC:</td>         <td>5335.6987</td> \n",
              "</tr>\n",
              "<tr>\n",
              "         <td>Date:</td>        <td>2021-05-04 03:09</td>       <td>BIC:</td>         <td>5571.8672</td> \n",
              "</tr>\n",
              "<tr>\n",
              "   <td>No. Observations:</td>        <td>6296</td>        <td>Log-Likelihood:</td>    <td>-2632.8</td>  \n",
              "</tr>\n",
              "<tr>\n",
              "       <td>Df Model:</td>             <td>34</td>            <td>LL-Null:</td>        <td>-3059.5</td>  \n",
              "</tr>\n",
              "<tr>\n",
              "     <td>Df Residuals:</td>          <td>6261</td>         <td>LLR p-value:</td>    <td>3.1725e-157</td>\n",
              "</tr>\n",
              "<tr>\n",
              "      <td>Converged:</td>           <td>0.0000</td>           <td>Scale:</td>         <td>1.0000</td>   \n",
              "</tr>\n",
              "<tr>\n",
              "    <td>No. Iterations:</td>        <td>35.0000</td>             <td></td>               <td></td>      \n",
              "</tr>\n",
              "</table>\n",
              "<table class=\"simpletable\">\n",
              "<tr>\n",
              "                   <td></td>                   <th>Coef.</th>   <th>Std.Err.</th>      <th>z</th>     <th>P>|z|</th>   <th>[0.025</th>      <th>0.975]</th>  \n",
              "</tr>\n",
              "<tr>\n",
              "  <th>const</th>                              <td>-1.9291</td>   <td>1.3085</td>    <td>-1.4743</td> <td>0.1404</td>   <td>-4.4936</td>     <td>0.6355</td>  \n",
              "</tr>\n",
              "<tr>\n",
              "  <th>Duration to accept offer</th>           <td>-0.0003</td>   <td>0.0014</td>    <td>-0.2021</td> <td>0.8398</td>   <td>-0.0030</td>     <td>0.0025</td>  \n",
              "</tr>\n",
              "<tr>\n",
              "  <th>Notice period</th>                      <td>-0.0200</td>   <td>0.0017</td>   <td>-11.9405</td> <td>0.0000</td>   <td>-0.0232</td>     <td>-0.0167</td> \n",
              "</tr>\n",
              "<tr>\n",
              "  <th>Pecent hike expected in CTC</th>        <td>-0.0060</td>   <td>0.0042</td>    <td>-1.4496</td> <td>0.1472</td>   <td>-0.0142</td>     <td>0.0021</td>  \n",
              "</tr>\n",
              "<tr>\n",
              "  <th>Percent hike offered in CTC</th>        <td>0.0070</td>    <td>0.0043</td>    <td>1.6274</td>  <td>0.1036</td>   <td>-0.0014</td>     <td>0.0154</td>  \n",
              "</tr>\n",
              "<tr>\n",
              "  <th>Percent difference CTC</th>             <td>-0.0066</td>   <td>0.0057</td>    <td>-1.1529</td> <td>0.2490</td>   <td>-0.0178</td>     <td>0.0046</td>  \n",
              "</tr>\n",
              "<tr>\n",
              "  <th>Rex in Yrs</th>                         <td>-0.0190</td>   <td>0.0246</td>    <td>-0.7743</td> <td>0.4387</td>   <td>-0.0673</td>     <td>0.0292</td>  \n",
              "</tr>\n",
              "<tr>\n",
              "  <th>Age</th>                                <td>0.0307</td>    <td>0.0111</td>    <td>2.7764</td>  <td>0.0055</td>   <td>0.0090</td>      <td>0.0524</td>  \n",
              "</tr>\n",
              "<tr>\n",
              "  <th>DOJ Extended_Yes</th>                   <td>0.1846</td>    <td>0.0764</td>    <td>2.4175</td>  <td>0.0156</td>   <td>0.0349</td>      <td>0.3342</td>  \n",
              "</tr>\n",
              "<tr>\n",
              "  <th>Offered band_E1</th>                    <td>1.3195</td>    <td>0.2305</td>    <td>5.7251</td>  <td>0.0000</td>   <td>0.8677</td>      <td>1.7712</td>  \n",
              "</tr>\n",
              "<tr>\n",
              "  <th>Offered band_E2</th>                    <td>1.1006</td>    <td>0.2536</td>    <td>4.3392</td>  <td>0.0000</td>   <td>0.6035</td>      <td>1.5978</td>  \n",
              "</tr>\n",
              "<tr>\n",
              "  <th>Offered band_E3</th>                    <td>1.4453</td>    <td>0.3392</td>    <td>4.2604</td>  <td>0.0000</td>   <td>0.7804</td>      <td>2.1101</td>  \n",
              "</tr>\n",
              "<tr>\n",
              "  <th>Joining Bonus_Yes</th>                  <td>-0.2545</td>   <td>0.1676</td>    <td>-1.5183</td> <td>0.1289</td>   <td>-0.5830</td>     <td>0.0740</td>  \n",
              "</tr>\n",
              "<tr>\n",
              "  <th>Candidate relocate actual_Yes</th>      <td>20.5316</td>  <td>1766.4124</td>  <td>0.0116</td>  <td>0.9907</td> <td>-3441.5732</td>   <td>3482.6363</td>\n",
              "</tr>\n",
              "<tr>\n",
              "  <th>Gender_Male</th>                        <td>-0.2221</td>   <td>0.0942</td>    <td>-2.3589</td> <td>0.0183</td>   <td>-0.4067</td>     <td>-0.0376</td> \n",
              "</tr>\n",
              "<tr>\n",
              "  <th>Candidate Source_Direct</th>            <td>0.3951</td>    <td>0.0790</td>    <td>5.0023</td>  <td>0.0000</td>   <td>0.2403</td>      <td>0.5499</td>  \n",
              "</tr>\n",
              "<tr>\n",
              "  <th>Candidate Source_Employee Referral</th> <td>0.8011</td>    <td>0.1164</td>    <td>6.8795</td>  <td>0.0000</td>   <td>0.5729</td>      <td>1.0293</td>  \n",
              "</tr>\n",
              "<tr>\n",
              "  <th>LOB_BFSI</th>                           <td>0.2853</td>    <td>0.1699</td>    <td>1.6796</td>  <td>0.0930</td>   <td>-0.0476</td>     <td>0.6183</td>  \n",
              "</tr>\n",
              "<tr>\n",
              "  <th>LOB_CSMP</th>                           <td>0.1953</td>    <td>0.1932</td>    <td>1.0110</td>  <td>0.3120</td>   <td>-0.1833</td>     <td>0.5740</td>  \n",
              "</tr>\n",
              "<tr>\n",
              "  <th>LOB_EAS</th>                            <td>-0.3106</td>   <td>0.2167</td>    <td>-1.4334</td> <td>0.1517</td>   <td>-0.7352</td>     <td>0.1141</td>  \n",
              "</tr>\n",
              "<tr>\n",
              "  <th>LOB_ERS</th>                            <td>0.1917</td>    <td>0.1621</td>    <td>1.1832</td>  <td>0.2367</td>   <td>-0.1259</td>     <td>0.5093</td>  \n",
              "</tr>\n",
              "<tr>\n",
              "  <th>LOB_ETS</th>                            <td>0.3265</td>    <td>0.1893</td>    <td>1.7252</td>  <td>0.0845</td>   <td>-0.0444</td>     <td>0.6975</td>  \n",
              "</tr>\n",
              "<tr>\n",
              "  <th>LOB_Healthcare</th>                     <td>0.7659</td>    <td>0.3510</td>    <td>2.1821</td>  <td>0.0291</td>   <td>0.0780</td>      <td>1.4538</td>  \n",
              "</tr>\n",
              "<tr>\n",
              "  <th>LOB_INFRA</th>                          <td>0.8366</td>    <td>0.1752</td>    <td>4.7760</td>  <td>0.0000</td>   <td>0.4933</td>      <td>1.1799</td>  \n",
              "</tr>\n",
              "<tr>\n",
              "  <th>LOB_MMS</th>                            <td>18.9556</td>  <td>5181.9980</td>  <td>0.0037</td>  <td>0.9971</td> <td>-10137.5739</td> <td>10175.4851</td>\n",
              "</tr>\n",
              "<tr>\n",
              "  <th>Location_Bangalore</th>                 <td>1.3572</td>    <td>1.2396</td>    <td>1.0949</td>  <td>0.2736</td>   <td>-1.0723</td>     <td>3.7867</td>  \n",
              "</tr>\n",
              "<tr>\n",
              "  <th>Location_Chennai</th>                   <td>1.2296</td>    <td>1.2382</td>    <td>0.9931</td>  <td>0.3207</td>   <td>-1.1972</td>     <td>3.6564</td>  \n",
              "</tr>\n",
              "<tr>\n",
              "  <th>Location_Cochin</th>                    <td>10.9025</td>  <td>194.9597</td>   <td>0.0559</td>  <td>0.9554</td>  <td>-371.2115</td>   <td>393.0165</td> \n",
              "</tr>\n",
              "<tr>\n",
              "  <th>Location_Gurgaon</th>                   <td>1.2514</td>    <td>1.2641</td>    <td>0.9900</td>  <td>0.3222</td>   <td>-1.2261</td>     <td>3.7289</td>  \n",
              "</tr>\n",
              "<tr>\n",
              "  <th>Location_Hyderabad</th>                 <td>1.3944</td>    <td>1.2493</td>    <td>1.1161</td>  <td>0.2644</td>   <td>-1.0542</td>     <td>3.8429</td>  \n",
              "</tr>\n",
              "<tr>\n",
              "  <th>Location_Kolkata</th>                   <td>1.1461</td>    <td>1.2683</td>    <td>0.9036</td>  <td>0.3662</td>   <td>-1.3398</td>     <td>3.6320</td>  \n",
              "</tr>\n",
              "<tr>\n",
              "  <th>Location_Mumbai</th>                    <td>1.6623</td>    <td>1.2660</td>    <td>1.3130</td>  <td>0.1892</td>   <td>-0.8190</td>     <td>4.1435</td>  \n",
              "</tr>\n",
              "<tr>\n",
              "  <th>Location_Noida</th>                     <td>1.5946</td>    <td>1.2376</td>    <td>1.2885</td>  <td>0.1976</td>   <td>-0.8311</td>     <td>4.0204</td>  \n",
              "</tr>\n",
              "<tr>\n",
              "  <th>Location_Others</th>                    <td>19.6771</td> <td>10014.7809</td>  <td>0.0020</td>  <td>0.9984</td> <td>-19608.9328</td> <td>19648.2870</td>\n",
              "</tr>\n",
              "<tr>\n",
              "  <th>Location_Pune</th>                      <td>1.5661</td>    <td>1.3302</td>    <td>1.1773</td>  <td>0.2391</td>   <td>-1.0411</td>     <td>4.1732</td>  \n",
              "</tr>\n",
              "</table>"
            ],
            "text/plain": [
              "<class 'statsmodels.iolib.summary2.Summary'>\n",
              "\"\"\"\n",
              "                                       Results: Logit\n",
              "============================================================================================\n",
              "Model:                        Logit                    Pseudo R-squared:         0.139      \n",
              "Dependent Variable:           Status                   AIC:                      5335.6987  \n",
              "Date:                         2021-05-04 03:09         BIC:                      5571.8672  \n",
              "No. Observations:             6296                     Log-Likelihood:           -2632.8    \n",
              "Df Model:                     34                       LL-Null:                  -3059.5    \n",
              "Df Residuals:                 6261                     LLR p-value:              3.1725e-157\n",
              "Converged:                    0.0000                   Scale:                    1.0000     \n",
              "No. Iterations:               35.0000                                                       \n",
              "--------------------------------------------------------------------------------------------\n",
              "                                    Coef.   Std.Err.     z     P>|z|     [0.025     0.975]  \n",
              "--------------------------------------------------------------------------------------------\n",
              "const                              -1.9291     1.3085  -1.4743 0.1404     -4.4936     0.6355\n",
              "Duration to accept offer           -0.0003     0.0014  -0.2021 0.8398     -0.0030     0.0025\n",
              "Notice period                      -0.0200     0.0017 -11.9405 0.0000     -0.0232    -0.0167\n",
              "Pecent hike expected in CTC        -0.0060     0.0042  -1.4496 0.1472     -0.0142     0.0021\n",
              "Percent hike offered in CTC         0.0070     0.0043   1.6274 0.1036     -0.0014     0.0154\n",
              "Percent difference CTC             -0.0066     0.0057  -1.1529 0.2490     -0.0178     0.0046\n",
              "Rex in Yrs                         -0.0190     0.0246  -0.7743 0.4387     -0.0673     0.0292\n",
              "Age                                 0.0307     0.0111   2.7764 0.0055      0.0090     0.0524\n",
              "DOJ Extended_Yes                    0.1846     0.0764   2.4175 0.0156      0.0349     0.3342\n",
              "Offered band_E1                     1.3195     0.2305   5.7251 0.0000      0.8677     1.7712\n",
              "Offered band_E2                     1.1006     0.2536   4.3392 0.0000      0.6035     1.5978\n",
              "Offered band_E3                     1.4453     0.3392   4.2604 0.0000      0.7804     2.1101\n",
              "Joining Bonus_Yes                  -0.2545     0.1676  -1.5183 0.1289     -0.5830     0.0740\n",
              "Candidate relocate actual_Yes      20.5316  1766.4124   0.0116 0.9907  -3441.5732  3482.6363\n",
              "Gender_Male                        -0.2221     0.0942  -2.3589 0.0183     -0.4067    -0.0376\n",
              "Candidate Source_Direct             0.3951     0.0790   5.0023 0.0000      0.2403     0.5499\n",
              "Candidate Source_Employee Referral  0.8011     0.1164   6.8795 0.0000      0.5729     1.0293\n",
              "LOB_BFSI                            0.2853     0.1699   1.6796 0.0930     -0.0476     0.6183\n",
              "LOB_CSMP                            0.1953     0.1932   1.0110 0.3120     -0.1833     0.5740\n",
              "LOB_EAS                            -0.3106     0.2167  -1.4334 0.1517     -0.7352     0.1141\n",
              "LOB_ERS                             0.1917     0.1621   1.1832 0.2367     -0.1259     0.5093\n",
              "LOB_ETS                             0.3265     0.1893   1.7252 0.0845     -0.0444     0.6975\n",
              "LOB_Healthcare                      0.7659     0.3510   2.1821 0.0291      0.0780     1.4538\n",
              "LOB_INFRA                           0.8366     0.1752   4.7760 0.0000      0.4933     1.1799\n",
              "LOB_MMS                            18.9556  5181.9980   0.0037 0.9971 -10137.5739 10175.4851\n",
              "Location_Bangalore                  1.3572     1.2396   1.0949 0.2736     -1.0723     3.7867\n",
              "Location_Chennai                    1.2296     1.2382   0.9931 0.3207     -1.1972     3.6564\n",
              "Location_Cochin                    10.9025   194.9597   0.0559 0.9554   -371.2115   393.0165\n",
              "Location_Gurgaon                    1.2514     1.2641   0.9900 0.3222     -1.2261     3.7289\n",
              "Location_Hyderabad                  1.3944     1.2493   1.1161 0.2644     -1.0542     3.8429\n",
              "Location_Kolkata                    1.1461     1.2683   0.9036 0.3662     -1.3398     3.6320\n",
              "Location_Mumbai                     1.6623     1.2660   1.3130 0.1892     -0.8190     4.1435\n",
              "Location_Noida                      1.5946     1.2376   1.2885 0.1976     -0.8311     4.0204\n",
              "Location_Others                    19.6771 10014.7809   0.0020 0.9984 -19608.9328 19648.2870\n",
              "Location_Pune                       1.5661     1.3302   1.1773 0.2391     -1.0411     4.1732\n",
              "============================================================================================\n",
              "\n",
              "\"\"\""
            ]
          },
          "metadata": {
            "tags": []
          },
          "execution_count": 99
        }
      ]
    },
    {
      "cell_type": "code",
      "metadata": {
        "id": "Xki3WMp3MAr6"
      },
      "source": [
        "def get_significant_vsrs(lm):\n",
        "  p_values_df = pd.DataFrame(lm.pvalues)\n",
        "  p_values_df['vars'] = p_values_df.index\n",
        "  p_values_df.columns = ['pvals','vars']\n",
        "  return list(p_values_df[p_values_df.pvals<=0.05]['vars'])"
      ],
      "execution_count": null,
      "outputs": []
    },
    {
      "cell_type": "code",
      "metadata": {
        "colab": {
          "base_uri": "https://localhost:8080/"
        },
        "id": "OtPqmAH-NYok",
        "outputId": "1a423579-91a2-4d0f-9ecc-57e383e15b06"
      },
      "source": [
        "significant_features = get_significant_vsrs(logist_model_1)\n",
        "significant_features"
      ],
      "execution_count": null,
      "outputs": [
        {
          "output_type": "execute_result",
          "data": {
            "text/plain": [
              "['Notice period',\n",
              " 'Age',\n",
              " 'DOJ Extended_Yes',\n",
              " 'Offered band_E1',\n",
              " 'Offered band_E2',\n",
              " 'Offered band_E3',\n",
              " 'Gender_Male',\n",
              " 'Candidate Source_Direct',\n",
              " 'Candidate Source_Employee Referral',\n",
              " 'LOB_Healthcare',\n",
              " 'LOB_INFRA']"
            ]
          },
          "metadata": {
            "tags": []
          },
          "execution_count": 101
        }
      ]
    },
    {
      "cell_type": "code",
      "metadata": {
        "id": "MhWe5vfWNrad"
      },
      "source": [
        "#significant_features.remove('const')"
      ],
      "execution_count": null,
      "outputs": []
    },
    {
      "cell_type": "code",
      "metadata": {
        "id": "cPrZnZ3tOAm2"
      },
      "source": [
        "X = sm.add_constant(encoded_df[significant_features])\n",
        "y = df['Status']"
      ],
      "execution_count": null,
      "outputs": []
    },
    {
      "cell_type": "code",
      "metadata": {
        "id": "gpXoPWwVOf2N"
      },
      "source": [
        "X_train, X_test,y_train,y_test = train_test_split(X,y,test_size =0.3,random_state = 30)"
      ],
      "execution_count": null,
      "outputs": []
    },
    {
      "cell_type": "code",
      "metadata": {
        "colab": {
          "base_uri": "https://localhost:8080/"
        },
        "id": "DsG_fMkyOlRl",
        "outputId": "5bfa40db-7dd7-4134-9beb-492cfc73ce00"
      },
      "source": [
        "logist = sm.Logit(y_train,X_train)\n",
        "logist_model_2 = logist.fit()"
      ],
      "execution_count": null,
      "outputs": [
        {
          "output_type": "stream",
          "text": [
            "Optimization terminated successfully.\n",
            "         Current function value: 0.452534\n",
            "         Iterations 6\n"
          ],
          "name": "stdout"
        }
      ]
    },
    {
      "cell_type": "code",
      "metadata": {
        "colab": {
          "base_uri": "https://localhost:8080/",
          "height": 462
        },
        "id": "pj7nd7r1Or-o",
        "outputId": "4b241556-715c-4a62-b627-7f42c9a2f56b"
      },
      "source": [
        "logist_model_2.summary2()"
      ],
      "execution_count": null,
      "outputs": [
        {
          "output_type": "execute_result",
          "data": {
            "text/html": [
              "<table class=\"simpletable\">\n",
              "<tr>\n",
              "        <td>Model:</td>              <td>Logit</td>      <td>Pseudo R-squared:</td>    <td>0.056</td>  \n",
              "</tr>\n",
              "<tr>\n",
              "  <td>Dependent Variable:</td>      <td>Status</td>            <td>AIC:</td>         <td>5722.3022</td>\n",
              "</tr>\n",
              "<tr>\n",
              "         <td>Date:</td>        <td>2021-05-04 03:10</td>       <td>BIC:</td>         <td>5803.2743</td>\n",
              "</tr>\n",
              "<tr>\n",
              "   <td>No. Observations:</td>        <td>6296</td>        <td>Log-Likelihood:</td>    <td>-2849.2</td> \n",
              "</tr>\n",
              "<tr>\n",
              "       <td>Df Model:</td>             <td>11</td>            <td>LL-Null:</td>        <td>-3018.4</td> \n",
              "</tr>\n",
              "<tr>\n",
              "     <td>Df Residuals:</td>          <td>6284</td>         <td>LLR p-value:</td>    <td>6.4547e-66</td>\n",
              "</tr>\n",
              "<tr>\n",
              "      <td>Converged:</td>           <td>1.0000</td>           <td>Scale:</td>         <td>1.0000</td>  \n",
              "</tr>\n",
              "<tr>\n",
              "    <td>No. Iterations:</td>        <td>6.0000</td>              <td></td>               <td></td>     \n",
              "</tr>\n",
              "</table>\n",
              "<table class=\"simpletable\">\n",
              "<tr>\n",
              "                   <td></td>                   <th>Coef.</th>  <th>Std.Err.</th>     <th>z</th>     <th>P>|z|</th> <th>[0.025</th>  <th>0.975]</th> \n",
              "</tr>\n",
              "<tr>\n",
              "  <th>const</th>                              <td>-0.0488</td>  <td>0.3384</td>   <td>-0.1442</td> <td>0.8853</td> <td>-0.7122</td> <td>0.6145</td> \n",
              "</tr>\n",
              "<tr>\n",
              "  <th>Notice period</th>                      <td>-0.0188</td>  <td>0.0015</td>  <td>-12.7100</td> <td>0.0000</td> <td>-0.0217</td> <td>-0.0159</td>\n",
              "</tr>\n",
              "<tr>\n",
              "  <th>Age</th>                                <td>0.0306</td>   <td>0.0097</td>   <td>3.1399</td>  <td>0.0017</td> <td>0.0115</td>  <td>0.0496</td> \n",
              "</tr>\n",
              "<tr>\n",
              "  <th>DOJ Extended_Yes</th>                   <td>0.1965</td>   <td>0.0686</td>   <td>2.8634</td>  <td>0.0042</td> <td>0.0620</td>  <td>0.3310</td> \n",
              "</tr>\n",
              "<tr>\n",
              "  <th>Offered band_E1</th>                    <td>1.0989</td>   <td>0.2254</td>   <td>4.8757</td>  <td>0.0000</td> <td>0.6571</td>  <td>1.5406</td> \n",
              "</tr>\n",
              "<tr>\n",
              "  <th>Offered band_E2</th>                    <td>0.7686</td>   <td>0.2321</td>   <td>3.3114</td>  <td>0.0009</td> <td>0.3137</td>  <td>1.2235</td> \n",
              "</tr>\n",
              "<tr>\n",
              "  <th>Offered band_E3</th>                    <td>0.9682</td>   <td>0.2815</td>   <td>3.4400</td>  <td>0.0006</td> <td>0.4166</td>  <td>1.5199</td> \n",
              "</tr>\n",
              "<tr>\n",
              "  <th>Gender_Male</th>                        <td>-0.1403</td>  <td>0.0921</td>   <td>-1.5230</td> <td>0.1278</td> <td>-0.3209</td> <td>0.0403</td> \n",
              "</tr>\n",
              "<tr>\n",
              "  <th>Candidate Source_Direct</th>            <td>0.3487</td>   <td>0.0745</td>   <td>4.6771</td>  <td>0.0000</td> <td>0.2026</td>  <td>0.4948</td> \n",
              "</tr>\n",
              "<tr>\n",
              "  <th>Candidate Source_Employee Referral</th> <td>0.6370</td>   <td>0.1111</td>   <td>5.7333</td>  <td>0.0000</td> <td>0.4192</td>  <td>0.8548</td> \n",
              "</tr>\n",
              "<tr>\n",
              "  <th>LOB_Healthcare</th>                     <td>0.0719</td>   <td>0.2773</td>   <td>0.2593</td>  <td>0.7954</td> <td>-0.4717</td> <td>0.6155</td> \n",
              "</tr>\n",
              "<tr>\n",
              "  <th>LOB_INFRA</th>                          <td>0.7267</td>   <td>0.0941</td>   <td>7.7197</td>  <td>0.0000</td> <td>0.5422</td>  <td>0.9112</td> \n",
              "</tr>\n",
              "</table>"
            ],
            "text/plain": [
              "<class 'statsmodels.iolib.summary2.Summary'>\n",
              "\"\"\"\n",
              "                                  Results: Logit\n",
              "===================================================================================\n",
              "Model:                    Logit                  Pseudo R-squared:       0.056     \n",
              "Dependent Variable:       Status                 AIC:                    5722.3022 \n",
              "Date:                     2021-05-04 03:10       BIC:                    5803.2743 \n",
              "No. Observations:         6296                   Log-Likelihood:         -2849.2   \n",
              "Df Model:                 11                     LL-Null:                -3018.4   \n",
              "Df Residuals:             6284                   LLR p-value:            6.4547e-66\n",
              "Converged:                1.0000                 Scale:                  1.0000    \n",
              "No. Iterations:           6.0000                                                   \n",
              "-----------------------------------------------------------------------------------\n",
              "                                    Coef.  Std.Err.    z     P>|z|   [0.025  0.975]\n",
              "-----------------------------------------------------------------------------------\n",
              "const                              -0.0488   0.3384  -0.1442 0.8853 -0.7122  0.6145\n",
              "Notice period                      -0.0188   0.0015 -12.7100 0.0000 -0.0217 -0.0159\n",
              "Age                                 0.0306   0.0097   3.1399 0.0017  0.0115  0.0496\n",
              "DOJ Extended_Yes                    0.1965   0.0686   2.8634 0.0042  0.0620  0.3310\n",
              "Offered band_E1                     1.0989   0.2254   4.8757 0.0000  0.6571  1.5406\n",
              "Offered band_E2                     0.7686   0.2321   3.3114 0.0009  0.3137  1.2235\n",
              "Offered band_E3                     0.9682   0.2815   3.4400 0.0006  0.4166  1.5199\n",
              "Gender_Male                        -0.1403   0.0921  -1.5230 0.1278 -0.3209  0.0403\n",
              "Candidate Source_Direct             0.3487   0.0745   4.6771 0.0000  0.2026  0.4948\n",
              "Candidate Source_Employee Referral  0.6370   0.1111   5.7333 0.0000  0.4192  0.8548\n",
              "LOB_Healthcare                      0.0719   0.2773   0.2593 0.7954 -0.4717  0.6155\n",
              "LOB_INFRA                           0.7267   0.0941   7.7197 0.0000  0.5422  0.9112\n",
              "===================================================================================\n",
              "\n",
              "\"\"\""
            ]
          },
          "metadata": {
            "tags": []
          },
          "execution_count": 107
        }
      ]
    },
    {
      "cell_type": "code",
      "metadata": {
        "id": "D7q8CUMDOvcE"
      },
      "source": [
        "y_pred_df =pd.DataFrame({'actual':y_test,\n",
        "                         'predicted' : logist_model_2.predict(X_test)})"
      ],
      "execution_count": null,
      "outputs": []
    },
    {
      "cell_type": "code",
      "metadata": {
        "colab": {
          "base_uri": "https://localhost:8080/",
          "height": 359
        },
        "id": "20CyK0PXPmbM",
        "outputId": "6c1e0049-d0d7-457f-9787-df67ed010366"
      },
      "source": [
        "y_pred_df.sample(10,random_state=50)"
      ],
      "execution_count": null,
      "outputs": [
        {
          "output_type": "execute_result",
          "data": {
            "text/html": [
              "<div>\n",
              "<style scoped>\n",
              "    .dataframe tbody tr th:only-of-type {\n",
              "        vertical-align: middle;\n",
              "    }\n",
              "\n",
              "    .dataframe tbody tr th {\n",
              "        vertical-align: top;\n",
              "    }\n",
              "\n",
              "    .dataframe thead th {\n",
              "        text-align: right;\n",
              "    }\n",
              "</style>\n",
              "<table border=\"1\" class=\"dataframe\">\n",
              "  <thead>\n",
              "    <tr style=\"text-align: right;\">\n",
              "      <th></th>\n",
              "      <th>actual</th>\n",
              "      <th>predicted</th>\n",
              "    </tr>\n",
              "  </thead>\n",
              "  <tbody>\n",
              "    <tr>\n",
              "      <th>6199</th>\n",
              "      <td>1</td>\n",
              "      <td>0.757974</td>\n",
              "    </tr>\n",
              "    <tr>\n",
              "      <th>8890</th>\n",
              "      <td>1</td>\n",
              "      <td>0.918304</td>\n",
              "    </tr>\n",
              "    <tr>\n",
              "      <th>1242</th>\n",
              "      <td>1</td>\n",
              "      <td>0.945989</td>\n",
              "    </tr>\n",
              "    <tr>\n",
              "      <th>7766</th>\n",
              "      <td>1</td>\n",
              "      <td>0.850022</td>\n",
              "    </tr>\n",
              "    <tr>\n",
              "      <th>7026</th>\n",
              "      <td>1</td>\n",
              "      <td>0.654743</td>\n",
              "    </tr>\n",
              "    <tr>\n",
              "      <th>4263</th>\n",
              "      <td>0</td>\n",
              "      <td>0.627992</td>\n",
              "    </tr>\n",
              "    <tr>\n",
              "      <th>8420</th>\n",
              "      <td>1</td>\n",
              "      <td>0.799969</td>\n",
              "    </tr>\n",
              "    <tr>\n",
              "      <th>2765</th>\n",
              "      <td>0</td>\n",
              "      <td>0.720415</td>\n",
              "    </tr>\n",
              "    <tr>\n",
              "      <th>2846</th>\n",
              "      <td>0</td>\n",
              "      <td>0.672189</td>\n",
              "    </tr>\n",
              "    <tr>\n",
              "      <th>2001</th>\n",
              "      <td>1</td>\n",
              "      <td>0.763460</td>\n",
              "    </tr>\n",
              "  </tbody>\n",
              "</table>\n",
              "</div>"
            ],
            "text/plain": [
              "      actual  predicted\n",
              "6199       1   0.757974\n",
              "8890       1   0.918304\n",
              "1242       1   0.945989\n",
              "7766       1   0.850022\n",
              "7026       1   0.654743\n",
              "4263       0   0.627992\n",
              "8420       1   0.799969\n",
              "2765       0   0.720415\n",
              "2846       0   0.672189\n",
              "2001       1   0.763460"
            ]
          },
          "metadata": {
            "tags": []
          },
          "execution_count": 109
        }
      ]
    },
    {
      "cell_type": "code",
      "metadata": {
        "id": "WOdnK1zaPriI"
      },
      "source": [
        "def get_total_cost(actual,predicted,cost_FP,cost_FN):\n",
        "  cm = metrics.confusion_matrix(actual,predicted,[1,0])\n",
        "  cm_mat = np.array(cm)\n",
        "  return cm_mat[0,1]*cost_FN +cm_mat[1,0]*cost_FP"
      ],
      "execution_count": null,
      "outputs": []
    },
    {
      "cell_type": "code",
      "metadata": {
        "id": "YE1DBrkvRdIj"
      },
      "source": [
        "cost_df = pd.DataFrame(columns=['prob','cost'])\n",
        "\n",
        "from sklearn import metrics"
      ],
      "execution_count": null,
      "outputs": []
    },
    {
      "cell_type": "code",
      "metadata": {
        "id": "WQuXcvrCRpGp"
      },
      "source": [
        "\n",
        "\n",
        "idx =0\n",
        "for each_prob in range(10,80):\n",
        "  cost = get_total_cost(y_pred_df.actual,y_pred_df.predicted.map(lambda x: 1 if x> (each_prob/100) else 0),3,1)\n",
        "  cost_df.loc[idx]  = [(each_prob/100),cost]\n",
        "  idx+=1"
      ],
      "execution_count": null,
      "outputs": []
    },
    {
      "cell_type": "code",
      "metadata": {
        "colab": {
          "base_uri": "https://localhost:8080/",
          "height": 204
        },
        "id": "1naqHUJMSpV7",
        "outputId": "67d218f5-20f1-4936-d624-fee386f89932"
      },
      "source": [
        "cost_df.sort_values('cost',ascending=True)[0:5]"
      ],
      "execution_count": null,
      "outputs": [
        {
          "output_type": "execute_result",
          "data": {
            "text/html": [
              "<div>\n",
              "<style scoped>\n",
              "    .dataframe tbody tr th:only-of-type {\n",
              "        vertical-align: middle;\n",
              "    }\n",
              "\n",
              "    .dataframe tbody tr th {\n",
              "        vertical-align: top;\n",
              "    }\n",
              "\n",
              "    .dataframe thead th {\n",
              "        text-align: right;\n",
              "    }\n",
              "</style>\n",
              "<table border=\"1\" class=\"dataframe\">\n",
              "  <thead>\n",
              "    <tr style=\"text-align: right;\">\n",
              "      <th></th>\n",
              "      <th>prob</th>\n",
              "      <th>cost</th>\n",
              "    </tr>\n",
              "  </thead>\n",
              "  <tbody>\n",
              "    <tr>\n",
              "      <th>67</th>\n",
              "      <td>0.77</td>\n",
              "      <td>1232.0</td>\n",
              "    </tr>\n",
              "    <tr>\n",
              "      <th>68</th>\n",
              "      <td>0.78</td>\n",
              "      <td>1238.0</td>\n",
              "    </tr>\n",
              "    <tr>\n",
              "      <th>66</th>\n",
              "      <td>0.76</td>\n",
              "      <td>1246.0</td>\n",
              "    </tr>\n",
              "    <tr>\n",
              "      <th>69</th>\n",
              "      <td>0.79</td>\n",
              "      <td>1257.0</td>\n",
              "    </tr>\n",
              "    <tr>\n",
              "      <th>65</th>\n",
              "      <td>0.75</td>\n",
              "      <td>1262.0</td>\n",
              "    </tr>\n",
              "  </tbody>\n",
              "</table>\n",
              "</div>"
            ],
            "text/plain": [
              "    prob    cost\n",
              "67  0.77  1232.0\n",
              "68  0.78  1238.0\n",
              "66  0.76  1246.0\n",
              "69  0.79  1257.0\n",
              "65  0.75  1262.0"
            ]
          },
          "metadata": {
            "tags": []
          },
          "execution_count": 116
        }
      ]
    },
    {
      "cell_type": "code",
      "metadata": {
        "colab": {
          "base_uri": "https://localhost:8080/"
        },
        "id": "i_W-2XDoTJUp",
        "outputId": "7e8dc3fa-97b0-42ac-fe03-629ad6d1b1e7"
      },
      "source": [
        "y_test.value_counts()"
      ],
      "execution_count": null,
      "outputs": [
        {
          "output_type": "execute_result",
          "data": {
            "text/plain": [
              "1    2184\n",
              "0     515\n",
              "Name: Status, dtype: int64"
            ]
          },
          "metadata": {
            "tags": []
          },
          "execution_count": 114
        }
      ]
    },
    {
      "cell_type": "code",
      "metadata": {
        "id": "IYu5FpdEUauF"
      },
      "source": [
        "y_pred_df['predicted_vals'] = y_pred_df.predicted.map(lambda x:1 if x>0.77 else 0)"
      ],
      "execution_count": null,
      "outputs": []
    },
    {
      "cell_type": "code",
      "metadata": {
        "colab": {
          "base_uri": "https://localhost:8080/"
        },
        "id": "geMRQiYXXruk",
        "outputId": "38c4c7f3-04f8-4173-d272-cbde96e9addd"
      },
      "source": [
        "print(metrics.classification_report(y_pred_df.actual,y_pred_df.predicted_vals))"
      ],
      "execution_count": null,
      "outputs": [
        {
          "output_type": "stream",
          "text": [
            "              precision    recall  f1-score   support\n",
            "\n",
            "           0       0.36      0.49      0.42       515\n",
            "           1       0.87      0.79      0.83      2184\n",
            "\n",
            "    accuracy                           0.74      2699\n",
            "   macro avg       0.62      0.64      0.62      2699\n",
            "weighted avg       0.77      0.74      0.75      2699\n",
            "\n"
          ],
          "name": "stdout"
        }
      ]
    },
    {
      "cell_type": "markdown",
      "metadata": {
        "id": "zxNOGpJUYQD2"
      },
      "source": [
        "Decision Tree"
      ]
    },
    {
      "cell_type": "code",
      "metadata": {
        "id": "y_WuIQzOX7HI"
      },
      "source": [
        "Y = df['Status']\n",
        "X = encoded_df"
      ],
      "execution_count": null,
      "outputs": []
    },
    {
      "cell_type": "code",
      "metadata": {
        "id": "QM1oaEHjYjte"
      },
      "source": [
        "X_train, X_test,y_train,y_test = train_test_split(X,y,test_size =0.3,random_state = 42)"
      ],
      "execution_count": null,
      "outputs": []
    },
    {
      "cell_type": "code",
      "metadata": {
        "id": "QQxqpDzKY1J1"
      },
      "source": [
        "from sklearn.tree import DecisionTreeClassifier\n",
        "clf_tree = DecisionTreeClassifier(criterion='gini',max_depth =3)\n"
      ],
      "execution_count": null,
      "outputs": []
    },
    {
      "cell_type": "code",
      "metadata": {
        "colab": {
          "base_uri": "https://localhost:8080/"
        },
        "id": "iwKXGIG2ZF2d",
        "outputId": "741a5ed8-bede-4d37-f857-c17b04381cee"
      },
      "source": [
        "clf_tree.fit(X_train,y_train)"
      ],
      "execution_count": null,
      "outputs": [
        {
          "output_type": "execute_result",
          "data": {
            "text/plain": [
              "DecisionTreeClassifier(ccp_alpha=0.0, class_weight=None, criterion='gini',\n",
              "                       max_depth=3, max_features=None, max_leaf_nodes=None,\n",
              "                       min_impurity_decrease=0.0, min_impurity_split=None,\n",
              "                       min_samples_leaf=1, min_samples_split=2,\n",
              "                       min_weight_fraction_leaf=0.0, presort='deprecated',\n",
              "                       random_state=None, splitter='best')"
            ]
          },
          "metadata": {
            "tags": []
          },
          "execution_count": 123
        }
      ]
    },
    {
      "cell_type": "code",
      "metadata": {
        "colab": {
          "base_uri": "https://localhost:8080/"
        },
        "id": "6XOqp0YhZLbC",
        "outputId": "7872deda-4ba7-49c5-9d42-b81b6233b35c"
      },
      "source": [
        "tree_predict = clf_tree.predict(X_test)\n",
        "metrics.roc_auc_score(y_test,tree_predict)"
      ],
      "execution_count": null,
      "outputs": [
        {
          "output_type": "execute_result",
          "data": {
            "text/plain": [
              "0.5057915057915058"
            ]
          },
          "metadata": {
            "tags": []
          },
          "execution_count": 124
        }
      ]
    },
    {
      "cell_type": "code",
      "metadata": {
        "colab": {
          "base_uri": "https://localhost:8080/",
          "height": 514
        },
        "id": "h_D5cs88ZX0P",
        "outputId": "6ca29727-f009-4ca3-af23-3a6f9c42a8d9"
      },
      "source": [
        "from sklearn.tree import export_graphviz\n",
        "import pydotplus as pdot\n",
        "from IPython.display import Image\n",
        "\n",
        "export_graphviz(clf_tree,out_file='chd_tree.odt',\n",
        "                feature_names = X_train.columns,\n",
        "                filled = True)\n",
        "chd_tree_graph = pdot.graphviz.graph_from_dot_file('chd_tree.odt')\n",
        "chd_tree_graph.write_jpg('chd_tree.png')\n",
        "Image(filename='chd_tree.png')"
      ],
      "execution_count": null,
      "outputs": [
        {
          "output_type": "execute_result",
          "data": {
            "image/png": "[encoded data removed]",
            "text/plain": [
              "<IPython.core.display.Image object>"
            ]
          },
          "metadata": {
            "tags": []
          },
          "execution_count": 125
        }
      ]
    },
    {
      "cell_type": "code",
      "metadata": {
        "id": "DuJTp64zae2r"
      },
      "source": [
        ""
      ],
      "execution_count": null,
      "outputs": []
    }
  ]
}