{
  "nbformat": 4,
  "nbformat_minor": 0,
  "metadata": {
    "colab": {
      "name": "Classification exercise",
      "provenance": [],
      "authorship_tag": "ABX9TyPr+j1z9K2HBZds2TlZ1TNW",
      "include_colab_link": true
    },
    "kernelspec": {
      "name": "python3",
      "display_name": "Python 3"
    },
    "language_info": {
      "name": "python"
    }
  },
  "cells": [
    {
      "cell_type": "markdown",
      "metadata": {
        "id": "view-in-github",
        "colab_type": "text"
      },
      "source": [
        "<a href=\"https://colab.research.google.com/github/RishabhMehra/Machine-Learning-with-Python-/blob/Data/Classification_exercise.ipynb\" target=\"_parent\"><img src=\"https://colab.research.google.com/assets/colab-badge.svg\" alt=\"Open In Colab\"/></a>"
      ]
    },
    {
      "cell_type": "code",
      "metadata": {
        "id": "hgxWCattY5tr"
      },
      "source": [
        ""
      ],
      "execution_count": null,
      "outputs": []
    },
    {
      "cell_type": "markdown",
      "metadata": {
        "id": "o4FOCdOFkIXG"
      },
      "source": [
        "SAHeart Disease \n",
        "\n",
        "Questions 1 to 10"
      ]
    },
    {
      "cell_type": "code",
      "metadata": {
        "id": "QtRg1-MCkLC-"
      },
      "source": [
        "import pandas as pd\n",
        "import numpy as np\n",
        "import matplotlib.pyplot as plt\n",
        "import seaborn as sn\n",
        "from google.colab import files\n",
        "import io\n",
        "%matplotlib inline"
      ],
      "execution_count": null,
      "outputs": []
    },
    {
      "cell_type": "code",
      "metadata": {
        "id": "A5gTU07Hkw4X"
      },
      "source": [
        "url = 'https://raw.githubusercontent.com/harpreetSinghGuller/Data-Science-R/master/SAHeart.csv'\n",
        "\n",
        "df = pd.read_csv(url)"
      ],
      "execution_count": null,
      "outputs": []
    },
    {
      "cell_type": "code",
      "metadata": {
        "colab": {
          "base_uri": "https://localhost:8080/"
        },
        "id": "jFX4zGnXk8-9",
        "outputId": "239e75bf-c127-498d-d2a4-930cf08c423f"
      },
      "source": [
        "df.info()\n"
      ],
      "execution_count": null,
      "outputs": [
        {
          "output_type": "stream",
          "text": [
            "<class 'pandas.core.frame.DataFrame'>\n",
            "RangeIndex: 462 entries, 0 to 461\n",
            "Data columns (total 11 columns):\n",
            " #   Column     Non-Null Count  Dtype  \n",
            "---  ------     --------------  -----  \n",
            " 0   row.names  462 non-null    int64  \n",
            " 1   sbp        462 non-null    int64  \n",
            " 2   tobacco    462 non-null    float64\n",
            " 3   ldl        462 non-null    float64\n",
            " 4   adiposity  462 non-null    float64\n",
            " 5   famhist    462 non-null    object \n",
            " 6   typea      462 non-null    int64  \n",
            " 7   obesity    462 non-null    float64\n",
            " 8   alcohol    462 non-null    float64\n",
            " 9   age        462 non-null    int64  \n",
            " 10  chd        462 non-null    int64  \n",
            "dtypes: float64(5), int64(5), object(1)\n",
            "memory usage: 39.8+ KB\n"
          ],
          "name": "stdout"
        }
      ]
    },
    {
      "cell_type": "code",
      "metadata": {
        "colab": {
          "base_uri": "https://localhost:8080/",
          "height": 204
        },
        "id": "ZMWnb7eXmYRX",
        "outputId": "ed837906-48b7-4418-eaf0-b4229635cabf"
      },
      "source": [
        "df.head()"
      ],
      "execution_count": null,
      "outputs": [
        {
          "output_type": "execute_result",
          "data": {
            "text/html": [
              "<div>\n",
              "<style scoped>\n",
              "    .dataframe tbody tr th:only-of-type {\n",
              "        vertical-align: middle;\n",
              "    }\n",
              "\n",
              "    .dataframe tbody tr th {\n",
              "        vertical-align: top;\n",
              "    }\n",
              "\n",
              "    .dataframe thead th {\n",
              "        text-align: right;\n",
              "    }\n",
              "</style>\n",
              "<table border=\"1\" class=\"dataframe\">\n",
              "  <thead>\n",
              "    <tr style=\"text-align: right;\">\n",
              "      <th></th>\n",
              "      <th>row.names</th>\n",
              "      <th>sbp</th>\n",
              "      <th>tobacco</th>\n",
              "      <th>ldl</th>\n",
              "      <th>adiposity</th>\n",
              "      <th>famhist</th>\n",
              "      <th>typea</th>\n",
              "      <th>obesity</th>\n",
              "      <th>alcohol</th>\n",
              "      <th>age</th>\n",
              "      <th>chd</th>\n",
              "    </tr>\n",
              "  </thead>\n",
              "  <tbody>\n",
              "    <tr>\n",
              "      <th>0</th>\n",
              "      <td>1</td>\n",
              "      <td>160</td>\n",
              "      <td>12.00</td>\n",
              "      <td>5.73</td>\n",
              "      <td>23.11</td>\n",
              "      <td>Present</td>\n",
              "      <td>49</td>\n",
              "      <td>25.30</td>\n",
              "      <td>97.20</td>\n",
              "      <td>52</td>\n",
              "      <td>1</td>\n",
              "    </tr>\n",
              "    <tr>\n",
              "      <th>1</th>\n",
              "      <td>2</td>\n",
              "      <td>144</td>\n",
              "      <td>0.01</td>\n",
              "      <td>4.41</td>\n",
              "      <td>28.61</td>\n",
              "      <td>Absent</td>\n",
              "      <td>55</td>\n",
              "      <td>28.87</td>\n",
              "      <td>2.06</td>\n",
              "      <td>63</td>\n",
              "      <td>1</td>\n",
              "    </tr>\n",
              "    <tr>\n",
              "      <th>2</th>\n",
              "      <td>3</td>\n",
              "      <td>118</td>\n",
              "      <td>0.08</td>\n",
              "      <td>3.48</td>\n",
              "      <td>32.28</td>\n",
              "      <td>Present</td>\n",
              "      <td>52</td>\n",
              "      <td>29.14</td>\n",
              "      <td>3.81</td>\n",
              "      <td>46</td>\n",
              "      <td>0</td>\n",
              "    </tr>\n",
              "    <tr>\n",
              "      <th>3</th>\n",
              "      <td>4</td>\n",
              "      <td>170</td>\n",
              "      <td>7.50</td>\n",
              "      <td>6.41</td>\n",
              "      <td>38.03</td>\n",
              "      <td>Present</td>\n",
              "      <td>51</td>\n",
              "      <td>31.99</td>\n",
              "      <td>24.26</td>\n",
              "      <td>58</td>\n",
              "      <td>1</td>\n",
              "    </tr>\n",
              "    <tr>\n",
              "      <th>4</th>\n",
              "      <td>5</td>\n",
              "      <td>134</td>\n",
              "      <td>13.60</td>\n",
              "      <td>3.50</td>\n",
              "      <td>27.78</td>\n",
              "      <td>Present</td>\n",
              "      <td>60</td>\n",
              "      <td>25.99</td>\n",
              "      <td>57.34</td>\n",
              "      <td>49</td>\n",
              "      <td>1</td>\n",
              "    </tr>\n",
              "  </tbody>\n",
              "</table>\n",
              "</div>"
            ],
            "text/plain": [
              "   row.names  sbp  tobacco   ldl  adiposity  ... typea  obesity  alcohol  age  chd\n",
              "0          1  160    12.00  5.73      23.11  ...    49    25.30    97.20   52    1\n",
              "1          2  144     0.01  4.41      28.61  ...    55    28.87     2.06   63    1\n",
              "2          3  118     0.08  3.48      32.28  ...    52    29.14     3.81   46    0\n",
              "3          4  170     7.50  6.41      38.03  ...    51    31.99    24.26   58    1\n",
              "4          5  134    13.60  3.50      27.78  ...    60    25.99    57.34   49    1\n",
              "\n",
              "[5 rows x 11 columns]"
            ]
          },
          "metadata": {
            "tags": []
          },
          "execution_count": 36
        }
      ]
    },
    {
      "cell_type": "code",
      "metadata": {
        "id": "cZgyQXvDmb7L"
      },
      "source": [
        "df.drop('row.names',axis=1,inplace=True)"
      ],
      "execution_count": null,
      "outputs": []
    },
    {
      "cell_type": "code",
      "metadata": {
        "colab": {
          "base_uri": "https://localhost:8080/",
          "height": 204
        },
        "id": "fkNHOywGmlS3",
        "outputId": "af9357bd-ef5f-47e0-a2e7-d2ee07c49d97"
      },
      "source": [
        "df.head()"
      ],
      "execution_count": null,
      "outputs": [
        {
          "output_type": "execute_result",
          "data": {
            "text/html": [
              "<div>\n",
              "<style scoped>\n",
              "    .dataframe tbody tr th:only-of-type {\n",
              "        vertical-align: middle;\n",
              "    }\n",
              "\n",
              "    .dataframe tbody tr th {\n",
              "        vertical-align: top;\n",
              "    }\n",
              "\n",
              "    .dataframe thead th {\n",
              "        text-align: right;\n",
              "    }\n",
              "</style>\n",
              "<table border=\"1\" class=\"dataframe\">\n",
              "  <thead>\n",
              "    <tr style=\"text-align: right;\">\n",
              "      <th></th>\n",
              "      <th>sbp</th>\n",
              "      <th>tobacco</th>\n",
              "      <th>ldl</th>\n",
              "      <th>adiposity</th>\n",
              "      <th>famhist</th>\n",
              "      <th>typea</th>\n",
              "      <th>obesity</th>\n",
              "      <th>alcohol</th>\n",
              "      <th>age</th>\n",
              "      <th>chd</th>\n",
              "    </tr>\n",
              "  </thead>\n",
              "  <tbody>\n",
              "    <tr>\n",
              "      <th>0</th>\n",
              "      <td>160</td>\n",
              "      <td>12.00</td>\n",
              "      <td>5.73</td>\n",
              "      <td>23.11</td>\n",
              "      <td>Present</td>\n",
              "      <td>49</td>\n",
              "      <td>25.30</td>\n",
              "      <td>97.20</td>\n",
              "      <td>52</td>\n",
              "      <td>1</td>\n",
              "    </tr>\n",
              "    <tr>\n",
              "      <th>1</th>\n",
              "      <td>144</td>\n",
              "      <td>0.01</td>\n",
              "      <td>4.41</td>\n",
              "      <td>28.61</td>\n",
              "      <td>Absent</td>\n",
              "      <td>55</td>\n",
              "      <td>28.87</td>\n",
              "      <td>2.06</td>\n",
              "      <td>63</td>\n",
              "      <td>1</td>\n",
              "    </tr>\n",
              "    <tr>\n",
              "      <th>2</th>\n",
              "      <td>118</td>\n",
              "      <td>0.08</td>\n",
              "      <td>3.48</td>\n",
              "      <td>32.28</td>\n",
              "      <td>Present</td>\n",
              "      <td>52</td>\n",
              "      <td>29.14</td>\n",
              "      <td>3.81</td>\n",
              "      <td>46</td>\n",
              "      <td>0</td>\n",
              "    </tr>\n",
              "    <tr>\n",
              "      <th>3</th>\n",
              "      <td>170</td>\n",
              "      <td>7.50</td>\n",
              "      <td>6.41</td>\n",
              "      <td>38.03</td>\n",
              "      <td>Present</td>\n",
              "      <td>51</td>\n",
              "      <td>31.99</td>\n",
              "      <td>24.26</td>\n",
              "      <td>58</td>\n",
              "      <td>1</td>\n",
              "    </tr>\n",
              "    <tr>\n",
              "      <th>4</th>\n",
              "      <td>134</td>\n",
              "      <td>13.60</td>\n",
              "      <td>3.50</td>\n",
              "      <td>27.78</td>\n",
              "      <td>Present</td>\n",
              "      <td>60</td>\n",
              "      <td>25.99</td>\n",
              "      <td>57.34</td>\n",
              "      <td>49</td>\n",
              "      <td>1</td>\n",
              "    </tr>\n",
              "  </tbody>\n",
              "</table>\n",
              "</div>"
            ],
            "text/plain": [
              "   sbp  tobacco   ldl  adiposity  famhist  typea  obesity  alcohol  age  chd\n",
              "0  160    12.00  5.73      23.11  Present     49    25.30    97.20   52    1\n",
              "1  144     0.01  4.41      28.61   Absent     55    28.87     2.06   63    1\n",
              "2  118     0.08  3.48      32.28  Present     52    29.14     3.81   46    0\n",
              "3  170     7.50  6.41      38.03  Present     51    31.99    24.26   58    1\n",
              "4  134    13.60  3.50      27.78  Present     60    25.99    57.34   49    1"
            ]
          },
          "metadata": {
            "tags": []
          },
          "execution_count": 38
        }
      ]
    },
    {
      "cell_type": "code",
      "metadata": {
        "colab": {
          "base_uri": "https://localhost:8080/"
        },
        "id": "viMVQxlLmqmM",
        "outputId": "fbd7c455-9f24-4dfd-8ec0-b13d417911de"
      },
      "source": [
        "X_features = df.columns.to_list()\n",
        "X_features.remove('chd')\n",
        "X_features"
      ],
      "execution_count": null,
      "outputs": [
        {
          "output_type": "execute_result",
          "data": {
            "text/plain": [
              "['sbp',\n",
              " 'tobacco',\n",
              " 'ldl',\n",
              " 'adiposity',\n",
              " 'famhist',\n",
              " 'typea',\n",
              " 'obesity',\n",
              " 'alcohol',\n",
              " 'age']"
            ]
          },
          "metadata": {
            "tags": []
          },
          "execution_count": 39
        }
      ]
    },
    {
      "cell_type": "markdown",
      "metadata": {
        "id": "hisTSahfnUf4"
      },
      "source": [
        "1. Build Logsitic regression model with all features"
      ]
    },
    {
      "cell_type": "code",
      "metadata": {
        "colab": {
          "base_uri": "https://localhost:8080/"
        },
        "id": "zOoDRiRCnR3x",
        "outputId": "9729073d-6c64-4ed2-cfae-679ed4805f4e"
      },
      "source": [
        "encoded_df  = pd.get_dummies(df[X_features],drop_first=True)\n",
        "\n",
        "encoded_df.columns"
      ],
      "execution_count": null,
      "outputs": [
        {
          "output_type": "execute_result",
          "data": {
            "text/plain": [
              "Index(['sbp', 'tobacco', 'ldl', 'adiposity', 'typea', 'obesity', 'alcohol',\n",
              "       'age', 'famhist_Present'],\n",
              "      dtype='object')"
            ]
          },
          "metadata": {
            "tags": []
          },
          "execution_count": 40
        }
      ]
    },
    {
      "cell_type": "code",
      "metadata": {
        "id": "VVc1v8FLn9Wg"
      },
      "source": [
        "import statsmodels.api as sm\n",
        "Y = df.chd\n",
        "X = sm.add_constant(encoded_df)"
      ],
      "execution_count": null,
      "outputs": []
    },
    {
      "cell_type": "code",
      "metadata": {
        "id": "ukO9xtA-oiD-"
      },
      "source": [
        "from sklearn.model_selection import train_test_split"
      ],
      "execution_count": null,
      "outputs": []
    },
    {
      "cell_type": "code",
      "metadata": {
        "id": "umLazHBXov_H"
      },
      "source": [
        "X_train,X_test,y_train,y_test = train_test_split(X,Y,test_size=0.3,random_state=42)"
      ],
      "execution_count": null,
      "outputs": []
    },
    {
      "cell_type": "code",
      "metadata": {
        "colab": {
          "base_uri": "https://localhost:8080/"
        },
        "id": "dC2SZ0HmpAj9",
        "outputId": "47150617-9647-49fc-cc40-5d32760c5fd1"
      },
      "source": [
        "logist = sm.Logit(y_train,X_train)\n",
        "logist_model1 = logist.fit()"
      ],
      "execution_count": null,
      "outputs": [
        {
          "output_type": "stream",
          "text": [
            "Optimization terminated successfully.\n",
            "         Current function value: 0.515459\n",
            "         Iterations 6\n"
          ],
          "name": "stdout"
        }
      ]
    },
    {
      "cell_type": "code",
      "metadata": {
        "colab": {
          "base_uri": "https://localhost:8080/",
          "height": 420
        },
        "id": "UbwhaCtDpOKx",
        "outputId": "8b08dd7a-4872-49de-bb79-b6879741d813"
      },
      "source": [
        "logist_model1.summary2()"
      ],
      "execution_count": null,
      "outputs": [
        {
          "output_type": "execute_result",
          "data": {
            "text/html": [
              "<table class=\"simpletable\">\n",
              "<tr>\n",
              "        <td>Model:</td>              <td>Logit</td>      <td>Pseudo R-squared:</td>    <td>0.199</td>  \n",
              "</tr>\n",
              "<tr>\n",
              "  <td>Dependent Variable:</td>        <td>chd</td>             <td>AIC:</td>         <td>352.9863</td> \n",
              "</tr>\n",
              "<tr>\n",
              "         <td>Date:</td>        <td>2021-04-29 12:39</td>       <td>BIC:</td>         <td>390.7628</td> \n",
              "</tr>\n",
              "<tr>\n",
              "   <td>No. Observations:</td>         <td>323</td>        <td>Log-Likelihood:</td>    <td>-166.49</td> \n",
              "</tr>\n",
              "<tr>\n",
              "       <td>Df Model:</td>              <td>9</td>            <td>LL-Null:</td>        <td>-207.83</td> \n",
              "</tr>\n",
              "<tr>\n",
              "     <td>Df Residuals:</td>           <td>313</td>         <td>LLR p-value:</td>    <td>4.7595e-14</td>\n",
              "</tr>\n",
              "<tr>\n",
              "      <td>Converged:</td>           <td>1.0000</td>           <td>Scale:</td>         <td>1.0000</td>  \n",
              "</tr>\n",
              "<tr>\n",
              "    <td>No. Iterations:</td>        <td>6.0000</td>              <td></td>               <td></td>     \n",
              "</tr>\n",
              "</table>\n",
              "<table class=\"simpletable\">\n",
              "<tr>\n",
              "         <td></td>          <th>Coef.</th>  <th>Std.Err.</th>    <th>z</th>     <th>P>|z|</th> <th>[0.025</th>  <th>0.975]</th> \n",
              "</tr>\n",
              "<tr>\n",
              "  <th>const</th>           <td>-6.5732</td>  <td>1.5863</td>  <td>-4.1437</td> <td>0.0000</td> <td>-9.6823</td> <td>-3.4640</td>\n",
              "</tr>\n",
              "<tr>\n",
              "  <th>sbp</th>             <td>0.0097</td>   <td>0.0068</td>  <td>1.4272</td>  <td>0.1535</td> <td>-0.0036</td> <td>0.0230</td> \n",
              "</tr>\n",
              "<tr>\n",
              "  <th>tobacco</th>         <td>0.0619</td>   <td>0.0319</td>  <td>1.9390</td>  <td>0.0525</td> <td>-0.0007</td> <td>0.1245</td> \n",
              "</tr>\n",
              "<tr>\n",
              "  <th>ldl</th>             <td>0.2067</td>   <td>0.0717</td>  <td>2.8837</td>  <td>0.0039</td> <td>0.0662</td>  <td>0.3472</td> \n",
              "</tr>\n",
              "<tr>\n",
              "  <th>adiposity</th>       <td>0.0262</td>   <td>0.0347</td>  <td>0.7554</td>  <td>0.4500</td> <td>-0.0418</td> <td>0.0942</td> \n",
              "</tr>\n",
              "<tr>\n",
              "  <th>typea</th>           <td>0.0387</td>   <td>0.0149</td>  <td>2.5972</td>  <td>0.0094</td> <td>0.0095</td>  <td>0.0679</td> \n",
              "</tr>\n",
              "<tr>\n",
              "  <th>obesity</th>         <td>-0.0646</td>  <td>0.0510</td>  <td>-1.2661</td> <td>0.2055</td> <td>-0.1645</td> <td>0.0354</td> \n",
              "</tr>\n",
              "<tr>\n",
              "  <th>alcohol</th>         <td>0.0011</td>   <td>0.0063</td>  <td>0.1777</td>  <td>0.8590</td> <td>-0.0113</td> <td>0.0135</td> \n",
              "</tr>\n",
              "<tr>\n",
              "  <th>age</th>             <td>0.0415</td>   <td>0.0143</td>  <td>2.9071</td>  <td>0.0036</td> <td>0.0135</td>  <td>0.0696</td> \n",
              "</tr>\n",
              "<tr>\n",
              "  <th>famhist_Present</th> <td>0.7519</td>   <td>0.2731</td>  <td>2.7533</td>  <td>0.0059</td> <td>0.2167</td>  <td>1.2872</td> \n",
              "</tr>\n",
              "</table>"
            ],
            "text/plain": [
              "<class 'statsmodels.iolib.summary2.Summary'>\n",
              "\"\"\"\n",
              "                         Results: Logit\n",
              "=================================================================\n",
              "Model:              Logit            Pseudo R-squared: 0.199     \n",
              "Dependent Variable: chd              AIC:              352.9863  \n",
              "Date:               2021-04-29 12:39 BIC:              390.7628  \n",
              "No. Observations:   323              Log-Likelihood:   -166.49   \n",
              "Df Model:           9                LL-Null:          -207.83   \n",
              "Df Residuals:       313              LLR p-value:      4.7595e-14\n",
              "Converged:          1.0000           Scale:            1.0000    \n",
              "No. Iterations:     6.0000                                       \n",
              "-----------------------------------------------------------------\n",
              "                   Coef.  Std.Err.    z    P>|z|   [0.025  0.975]\n",
              "-----------------------------------------------------------------\n",
              "const             -6.5732   1.5863 -4.1437 0.0000 -9.6823 -3.4640\n",
              "sbp                0.0097   0.0068  1.4272 0.1535 -0.0036  0.0230\n",
              "tobacco            0.0619   0.0319  1.9390 0.0525 -0.0007  0.1245\n",
              "ldl                0.2067   0.0717  2.8837 0.0039  0.0662  0.3472\n",
              "adiposity          0.0262   0.0347  0.7554 0.4500 -0.0418  0.0942\n",
              "typea              0.0387   0.0149  2.5972 0.0094  0.0095  0.0679\n",
              "obesity           -0.0646   0.0510 -1.2661 0.2055 -0.1645  0.0354\n",
              "alcohol            0.0011   0.0063  0.1777 0.8590 -0.0113  0.0135\n",
              "age                0.0415   0.0143  2.9071 0.0036  0.0135  0.0696\n",
              "famhist_Present    0.7519   0.2731  2.7533 0.0059  0.2167  1.2872\n",
              "=================================================================\n",
              "\n",
              "\"\"\""
            ]
          },
          "metadata": {
            "tags": []
          },
          "execution_count": 45
        }
      ]
    },
    {
      "cell_type": "code",
      "metadata": {
        "id": "D-E-kcBCpUaS"
      },
      "source": [
        "def get_significant_vars(lm):\n",
        "  sigvars_df = pd.DataFrame(lm.pvalues)\n",
        "  sigvars_df['vars'] = sigvars_df.index\n",
        "  sigvars_df.columns =['pvalues','vars']\n",
        "  return list(sigvars_df[sigvars_df['pvalues']<=0.05]['vars'])"
      ],
      "execution_count": null,
      "outputs": []
    },
    {
      "cell_type": "code",
      "metadata": {
        "colab": {
          "base_uri": "https://localhost:8080/"
        },
        "id": "ii1p0KkFqbbl",
        "outputId": "fbfff3f0-5f9d-42fc-a738-59a79d3383dc"
      },
      "source": [
        "significant_vars_lm = get_significant_vars(logist_model1)\n",
        "significant_vars_lm"
      ],
      "execution_count": null,
      "outputs": [
        {
          "output_type": "execute_result",
          "data": {
            "text/plain": [
              "['const', 'ldl', 'typea', 'age', 'famhist_Present']"
            ]
          },
          "metadata": {
            "tags": []
          },
          "execution_count": 47
        }
      ]
    },
    {
      "cell_type": "code",
      "metadata": {
        "id": "a9x5k8mAqusG"
      },
      "source": [
        "significant_vars_lm.remove('const')"
      ],
      "execution_count": null,
      "outputs": []
    },
    {
      "cell_type": "code",
      "metadata": {
        "id": "fbTbyxRmrU9q"
      },
      "source": [
        "#model for significant values\n",
        "Y = df.chd\n",
        "X = sm.add_constant(encoded_df[significant_vars_lm])\n",
        "\n",
        "X_train,X_test,y_train,y_test = train_test_split(X,Y,test_size=0.3,random_state=42)\n"
      ],
      "execution_count": null,
      "outputs": []
    },
    {
      "cell_type": "code",
      "metadata": {
        "colab": {
          "base_uri": "https://localhost:8080/"
        },
        "id": "U_pCdJnYsQ-w",
        "outputId": "77813183-1a0f-40d9-8749-a48911bceac1"
      },
      "source": [
        "logist2 = sm.Logit(y_train,X_train)\n",
        "logist_model2 = logist2.fit()"
      ],
      "execution_count": null,
      "outputs": [
        {
          "output_type": "stream",
          "text": [
            "Optimization terminated successfully.\n",
            "         Current function value: 0.528087\n",
            "         Iterations 6\n"
          ],
          "name": "stdout"
        }
      ]
    },
    {
      "cell_type": "code",
      "metadata": {
        "colab": {
          "base_uri": "https://localhost:8080/",
          "height": 315
        },
        "id": "66A2CdMMsg6d",
        "outputId": "66603a82-18de-4557-c3b1-aab4c52e8b55"
      },
      "source": [
        "logist_model2.summary2()"
      ],
      "execution_count": null,
      "outputs": [
        {
          "output_type": "execute_result",
          "data": {
            "text/html": [
              "<table class=\"simpletable\">\n",
              "<tr>\n",
              "        <td>Model:</td>              <td>Logit</td>      <td>Pseudo R-squared:</td>    <td>0.179</td>  \n",
              "</tr>\n",
              "<tr>\n",
              "  <td>Dependent Variable:</td>        <td>chd</td>             <td>AIC:</td>         <td>351.1443</td> \n",
              "</tr>\n",
              "<tr>\n",
              "         <td>Date:</td>        <td>2021-04-29 12:39</td>       <td>BIC:</td>         <td>370.0326</td> \n",
              "</tr>\n",
              "<tr>\n",
              "   <td>No. Observations:</td>         <td>323</td>        <td>Log-Likelihood:</td>    <td>-170.57</td> \n",
              "</tr>\n",
              "<tr>\n",
              "       <td>Df Model:</td>              <td>4</td>            <td>LL-Null:</td>        <td>-207.83</td> \n",
              "</tr>\n",
              "<tr>\n",
              "     <td>Df Residuals:</td>           <td>318</td>         <td>LLR p-value:</td>    <td>2.5286e-15</td>\n",
              "</tr>\n",
              "<tr>\n",
              "      <td>Converged:</td>           <td>1.0000</td>           <td>Scale:</td>         <td>1.0000</td>  \n",
              "</tr>\n",
              "<tr>\n",
              "    <td>No. Iterations:</td>        <td>6.0000</td>              <td></td>               <td></td>     \n",
              "</tr>\n",
              "</table>\n",
              "<table class=\"simpletable\">\n",
              "<tr>\n",
              "         <td></td>          <th>Coef.</th>  <th>Std.Err.</th>    <th>z</th>     <th>P>|z|</th> <th>[0.025</th>  <th>0.975]</th> \n",
              "</tr>\n",
              "<tr>\n",
              "  <th>const</th>           <td>-6.6526</td>  <td>1.1139</td>  <td>-5.9723</td> <td>0.0000</td> <td>-8.8358</td> <td>-4.4694</td>\n",
              "</tr>\n",
              "<tr>\n",
              "  <th>ldl</th>             <td>0.2028</td>   <td>0.0648</td>  <td>3.1320</td>  <td>0.0017</td> <td>0.0759</td>  <td>0.3298</td> \n",
              "</tr>\n",
              "<tr>\n",
              "  <th>typea</th>           <td>0.0372</td>   <td>0.0145</td>  <td>2.5625</td>  <td>0.0104</td> <td>0.0088</td>  <td>0.0657</td> \n",
              "</tr>\n",
              "<tr>\n",
              "  <th>age</th>             <td>0.0592</td>   <td>0.0111</td>  <td>5.3278</td>  <td>0.0000</td> <td>0.0374</td>  <td>0.0809</td> \n",
              "</tr>\n",
              "<tr>\n",
              "  <th>famhist_Present</th> <td>0.7004</td>   <td>0.2666</td>  <td>2.6275</td>  <td>0.0086</td> <td>0.1779</td>  <td>1.2228</td> \n",
              "</tr>\n",
              "</table>"
            ],
            "text/plain": [
              "<class 'statsmodels.iolib.summary2.Summary'>\n",
              "\"\"\"\n",
              "                         Results: Logit\n",
              "=================================================================\n",
              "Model:              Logit            Pseudo R-squared: 0.179     \n",
              "Dependent Variable: chd              AIC:              351.1443  \n",
              "Date:               2021-04-29 12:39 BIC:              370.0326  \n",
              "No. Observations:   323              Log-Likelihood:   -170.57   \n",
              "Df Model:           4                LL-Null:          -207.83   \n",
              "Df Residuals:       318              LLR p-value:      2.5286e-15\n",
              "Converged:          1.0000           Scale:            1.0000    \n",
              "No. Iterations:     6.0000                                       \n",
              "-----------------------------------------------------------------\n",
              "                   Coef.  Std.Err.    z    P>|z|   [0.025  0.975]\n",
              "-----------------------------------------------------------------\n",
              "const             -6.6526   1.1139 -5.9723 0.0000 -8.8358 -4.4694\n",
              "ldl                0.2028   0.0648  3.1320 0.0017  0.0759  0.3298\n",
              "typea              0.0372   0.0145  2.5625 0.0104  0.0088  0.0657\n",
              "age                0.0592   0.0111  5.3278 0.0000  0.0374  0.0809\n",
              "famhist_Present    0.7004   0.2666  2.6275 0.0086  0.1779  1.2228\n",
              "=================================================================\n",
              "\n",
              "\"\"\""
            ]
          },
          "metadata": {
            "tags": []
          },
          "execution_count": 51
        }
      ]
    },
    {
      "cell_type": "code",
      "metadata": {
        "id": "JXRAiWFBskN3"
      },
      "source": [
        "y_pred = pd.DataFrame({\"actual\":y_test,\n",
        "                       \"predicted_prob\":logist_model2.predict(sm.add_constant(X_test[significant_vars_lm]))})"
      ],
      "execution_count": null,
      "outputs": []
    },
    {
      "cell_type": "code",
      "metadata": {
        "colab": {
          "base_uri": "https://localhost:8080/",
          "height": 359
        },
        "id": "dzEcaFjYuchi",
        "outputId": "8d80d96f-20f4-4bd0-b912-7637e687cb8b"
      },
      "source": [
        "y_pred.sample(10,random_state=42)"
      ],
      "execution_count": null,
      "outputs": [
        {
          "output_type": "execute_result",
          "data": {
            "text/html": [
              "<div>\n",
              "<style scoped>\n",
              "    .dataframe tbody tr th:only-of-type {\n",
              "        vertical-align: middle;\n",
              "    }\n",
              "\n",
              "    .dataframe tbody tr th {\n",
              "        vertical-align: top;\n",
              "    }\n",
              "\n",
              "    .dataframe thead th {\n",
              "        text-align: right;\n",
              "    }\n",
              "</style>\n",
              "<table border=\"1\" class=\"dataframe\">\n",
              "  <thead>\n",
              "    <tr style=\"text-align: right;\">\n",
              "      <th></th>\n",
              "      <th>actual</th>\n",
              "      <th>predicted_prob</th>\n",
              "    </tr>\n",
              "  </thead>\n",
              "  <tbody>\n",
              "    <tr>\n",
              "      <th>29</th>\n",
              "      <td>1</td>\n",
              "      <td>0.657565</td>\n",
              "    </tr>\n",
              "    <tr>\n",
              "      <th>357</th>\n",
              "      <td>0</td>\n",
              "      <td>0.465959</td>\n",
              "    </tr>\n",
              "    <tr>\n",
              "      <th>447</th>\n",
              "      <td>0</td>\n",
              "      <td>0.067349</td>\n",
              "    </tr>\n",
              "    <tr>\n",
              "      <th>5</th>\n",
              "      <td>0</td>\n",
              "      <td>0.582238</td>\n",
              "    </tr>\n",
              "    <tr>\n",
              "      <th>209</th>\n",
              "      <td>0</td>\n",
              "      <td>0.598367</td>\n",
              "    </tr>\n",
              "    <tr>\n",
              "      <th>76</th>\n",
              "      <td>0</td>\n",
              "      <td>0.406939</td>\n",
              "    </tr>\n",
              "    <tr>\n",
              "      <th>75</th>\n",
              "      <td>0</td>\n",
              "      <td>0.180435</td>\n",
              "    </tr>\n",
              "    <tr>\n",
              "      <th>296</th>\n",
              "      <td>0</td>\n",
              "      <td>0.094291</td>\n",
              "    </tr>\n",
              "    <tr>\n",
              "      <th>428</th>\n",
              "      <td>0</td>\n",
              "      <td>0.247063</td>\n",
              "    </tr>\n",
              "    <tr>\n",
              "      <th>227</th>\n",
              "      <td>1</td>\n",
              "      <td>0.223939</td>\n",
              "    </tr>\n",
              "  </tbody>\n",
              "</table>\n",
              "</div>"
            ],
            "text/plain": [
              "     actual  predicted_prob\n",
              "29        1        0.657565\n",
              "357       0        0.465959\n",
              "447       0        0.067349\n",
              "5         0        0.582238\n",
              "209       0        0.598367\n",
              "76        0        0.406939\n",
              "75        0        0.180435\n",
              "296       0        0.094291\n",
              "428       0        0.247063\n",
              "227       1        0.223939"
            ]
          },
          "metadata": {
            "tags": []
          },
          "execution_count": 53
        }
      ]
    },
    {
      "cell_type": "code",
      "metadata": {
        "id": "ZEWSmQwgvqto"
      },
      "source": [
        "from sklearn import metrics\n",
        "fpr, tpr, thresholds = metrics.roc_curve(y_pred['actual'], y_pred['predicted_prob'], pos_label=1)"
      ],
      "execution_count": null,
      "outputs": []
    },
    {
      "cell_type": "code",
      "metadata": {
        "colab": {
          "base_uri": "https://localhost:8080/",
          "height": 204
        },
        "id": "46x9z9agluwu",
        "outputId": "00457e5f-1c2b-4016-c8cb-094966fe3144"
      },
      "source": [
        "tpr_fpr = pd.DataFrame({'tpr' : tpr,\n",
        "                        'fpr' :fpr,\n",
        "                        'threshold' :thresholds\n",
        "})\n",
        "\n",
        "tpr_fpr['Diff'] = tpr_fpr.tpr - tpr_fpr.fpr\n",
        "tpr_fpr.sort_values('Diff',ascending  = False)[0:5]"
      ],
      "execution_count": null,
      "outputs": [
        {
          "output_type": "execute_result",
          "data": {
            "text/html": [
              "<div>\n",
              "<style scoped>\n",
              "    .dataframe tbody tr th:only-of-type {\n",
              "        vertical-align: middle;\n",
              "    }\n",
              "\n",
              "    .dataframe tbody tr th {\n",
              "        vertical-align: top;\n",
              "    }\n",
              "\n",
              "    .dataframe thead th {\n",
              "        text-align: right;\n",
              "    }\n",
              "</style>\n",
              "<table border=\"1\" class=\"dataframe\">\n",
              "  <thead>\n",
              "    <tr style=\"text-align: right;\">\n",
              "      <th></th>\n",
              "      <th>tpr</th>\n",
              "      <th>fpr</th>\n",
              "      <th>threshold</th>\n",
              "      <th>Diff</th>\n",
              "    </tr>\n",
              "  </thead>\n",
              "  <tbody>\n",
              "    <tr>\n",
              "      <th>20</th>\n",
              "      <td>0.591837</td>\n",
              "      <td>0.155556</td>\n",
              "      <td>0.434413</td>\n",
              "      <td>0.436281</td>\n",
              "    </tr>\n",
              "    <tr>\n",
              "      <th>22</th>\n",
              "      <td>0.612245</td>\n",
              "      <td>0.177778</td>\n",
              "      <td>0.421181</td>\n",
              "      <td>0.434467</td>\n",
              "    </tr>\n",
              "    <tr>\n",
              "      <th>24</th>\n",
              "      <td>0.632653</td>\n",
              "      <td>0.200000</td>\n",
              "      <td>0.414076</td>\n",
              "      <td>0.432653</td>\n",
              "    </tr>\n",
              "    <tr>\n",
              "      <th>26</th>\n",
              "      <td>0.653061</td>\n",
              "      <td>0.222222</td>\n",
              "      <td>0.405464</td>\n",
              "      <td>0.430839</td>\n",
              "    </tr>\n",
              "    <tr>\n",
              "      <th>21</th>\n",
              "      <td>0.591837</td>\n",
              "      <td>0.177778</td>\n",
              "      <td>0.423902</td>\n",
              "      <td>0.414059</td>\n",
              "    </tr>\n",
              "  </tbody>\n",
              "</table>\n",
              "</div>"
            ],
            "text/plain": [
              "         tpr       fpr  threshold      Diff\n",
              "20  0.591837  0.155556   0.434413  0.436281\n",
              "22  0.612245  0.177778   0.421181  0.434467\n",
              "24  0.632653  0.200000   0.414076  0.432653\n",
              "26  0.653061  0.222222   0.405464  0.430839\n",
              "21  0.591837  0.177778   0.423902  0.414059"
            ]
          },
          "metadata": {
            "tags": []
          },
          "execution_count": 55
        }
      ]
    },
    {
      "cell_type": "code",
      "metadata": {
        "colab": {
          "base_uri": "https://localhost:8080/"
        },
        "id": "WtbWwi3smihT",
        "outputId": "02c85e78-beb7-460a-e62a-5fc73aa74acf"
      },
      "source": [
        "thresholds.sort()\n",
        "thresholds"
      ],
      "execution_count": null,
      "outputs": [
        {
          "output_type": "execute_result",
          "data": {
            "text/plain": [
              "array([0.02080645, 0.06953277, 0.07146994, 0.13759534, 0.1493417 ,\n",
              "       0.18517956, 0.18821626, 0.18853688, 0.19278218, 0.21438054,\n",
              "       0.23585541, 0.23919652, 0.24706301, 0.25404701, 0.25443471,\n",
              "       0.28071653, 0.28488079, 0.28492855, 0.2876492 , 0.29456067,\n",
              "       0.30324361, 0.31727308, 0.31760969, 0.32211483, 0.33957203,\n",
              "       0.40546377, 0.40693882, 0.41407599, 0.41620211, 0.42118054,\n",
              "       0.42390181, 0.43441255, 0.46595932, 0.4676967 , 0.47543682,\n",
              "       0.50778075, 0.53132544, 0.54418781, 0.56457962, 0.56540116,\n",
              "       0.58223769, 0.58556351, 0.59286433, 0.59769427, 0.59836654,\n",
              "       0.61735803, 0.64783381, 0.65756472, 0.8307413 , 0.83166895,\n",
              "       0.85451101, 1.85451101])"
            ]
          },
          "metadata": {
            "tags": []
          },
          "execution_count": 29
        }
      ]
    },
    {
      "cell_type": "code",
      "metadata": {
        "colab": {
          "base_uri": "https://localhost:8080/",
          "height": 80
        },
        "id": "mZi7fqCznfNh",
        "outputId": "e7de2d2d-b538-4b65-b212-2419e8c4909f"
      },
      "source": [
        "tpr_fpr.sort_values('Diff',ascending  = False,inplace=True)\n",
        "\n",
        "tpr_fpr.head(1)"
      ],
      "execution_count": null,
      "outputs": [
        {
          "output_type": "execute_result",
          "data": {
            "text/html": [
              "<div>\n",
              "<style scoped>\n",
              "    .dataframe tbody tr th:only-of-type {\n",
              "        vertical-align: middle;\n",
              "    }\n",
              "\n",
              "    .dataframe tbody tr th {\n",
              "        vertical-align: top;\n",
              "    }\n",
              "\n",
              "    .dataframe thead th {\n",
              "        text-align: right;\n",
              "    }\n",
              "</style>\n",
              "<table border=\"1\" class=\"dataframe\">\n",
              "  <thead>\n",
              "    <tr style=\"text-align: right;\">\n",
              "      <th></th>\n",
              "      <th>tpr</th>\n",
              "      <th>fpr</th>\n",
              "      <th>threshold</th>\n",
              "      <th>Diff</th>\n",
              "    </tr>\n",
              "  </thead>\n",
              "  <tbody>\n",
              "    <tr>\n",
              "      <th>20</th>\n",
              "      <td>0.591837</td>\n",
              "      <td>0.155556</td>\n",
              "      <td>0.434413</td>\n",
              "      <td>0.436281</td>\n",
              "    </tr>\n",
              "  </tbody>\n",
              "</table>\n",
              "</div>"
            ],
            "text/plain": [
              "         tpr       fpr  threshold      Diff\n",
              "20  0.591837  0.155556   0.434413  0.436281"
            ]
          },
          "metadata": {
            "tags": []
          },
          "execution_count": 60
        }
      ]
    },
    {
      "cell_type": "code",
      "metadata": {
        "id": "PHCzIRSkorbl"
      },
      "source": [
        "new_threshold = tpr_fpr.iloc[0]['threshold']"
      ],
      "execution_count": null,
      "outputs": []
    },
    {
      "cell_type": "code",
      "metadata": {
        "id": "fzM8joKCqZk-"
      },
      "source": [
        "y_pred['valueOn_newThreshold']  = y_pred.predicted_prob.map(lambda x : 1 if x> new_threshold else 0)"
      ],
      "execution_count": null,
      "outputs": []
    },
    {
      "cell_type": "code",
      "metadata": {
        "colab": {
          "base_uri": "https://localhost:8080/",
          "height": 359
        },
        "id": "ye3gk2Pnqx4e",
        "outputId": "80435fa0-cdf1-48e7-8fdf-b41bb3a376ff"
      },
      "source": [
        "y_pred.sample(10,random_state=42)"
      ],
      "execution_count": null,
      "outputs": [
        {
          "output_type": "execute_result",
          "data": {
            "text/html": [
              "<div>\n",
              "<style scoped>\n",
              "    .dataframe tbody tr th:only-of-type {\n",
              "        vertical-align: middle;\n",
              "    }\n",
              "\n",
              "    .dataframe tbody tr th {\n",
              "        vertical-align: top;\n",
              "    }\n",
              "\n",
              "    .dataframe thead th {\n",
              "        text-align: right;\n",
              "    }\n",
              "</style>\n",
              "<table border=\"1\" class=\"dataframe\">\n",
              "  <thead>\n",
              "    <tr style=\"text-align: right;\">\n",
              "      <th></th>\n",
              "      <th>actual</th>\n",
              "      <th>predicted_prob</th>\n",
              "      <th>valueOn_newThreshold</th>\n",
              "    </tr>\n",
              "  </thead>\n",
              "  <tbody>\n",
              "    <tr>\n",
              "      <th>29</th>\n",
              "      <td>1</td>\n",
              "      <td>0.657565</td>\n",
              "      <td>1</td>\n",
              "    </tr>\n",
              "    <tr>\n",
              "      <th>357</th>\n",
              "      <td>0</td>\n",
              "      <td>0.465959</td>\n",
              "      <td>1</td>\n",
              "    </tr>\n",
              "    <tr>\n",
              "      <th>447</th>\n",
              "      <td>0</td>\n",
              "      <td>0.067349</td>\n",
              "      <td>0</td>\n",
              "    </tr>\n",
              "    <tr>\n",
              "      <th>5</th>\n",
              "      <td>0</td>\n",
              "      <td>0.582238</td>\n",
              "      <td>1</td>\n",
              "    </tr>\n",
              "    <tr>\n",
              "      <th>209</th>\n",
              "      <td>0</td>\n",
              "      <td>0.598367</td>\n",
              "      <td>1</td>\n",
              "    </tr>\n",
              "    <tr>\n",
              "      <th>76</th>\n",
              "      <td>0</td>\n",
              "      <td>0.406939</td>\n",
              "      <td>0</td>\n",
              "    </tr>\n",
              "    <tr>\n",
              "      <th>75</th>\n",
              "      <td>0</td>\n",
              "      <td>0.180435</td>\n",
              "      <td>0</td>\n",
              "    </tr>\n",
              "    <tr>\n",
              "      <th>296</th>\n",
              "      <td>0</td>\n",
              "      <td>0.094291</td>\n",
              "      <td>0</td>\n",
              "    </tr>\n",
              "    <tr>\n",
              "      <th>428</th>\n",
              "      <td>0</td>\n",
              "      <td>0.247063</td>\n",
              "      <td>0</td>\n",
              "    </tr>\n",
              "    <tr>\n",
              "      <th>227</th>\n",
              "      <td>1</td>\n",
              "      <td>0.223939</td>\n",
              "      <td>0</td>\n",
              "    </tr>\n",
              "  </tbody>\n",
              "</table>\n",
              "</div>"
            ],
            "text/plain": [
              "     actual  predicted_prob  valueOn_newThreshold\n",
              "29        1        0.657565                     1\n",
              "357       0        0.465959                     1\n",
              "447       0        0.067349                     0\n",
              "5         0        0.582238                     1\n",
              "209       0        0.598367                     1\n",
              "76        0        0.406939                     0\n",
              "75        0        0.180435                     0\n",
              "296       0        0.094291                     0\n",
              "428       0        0.247063                     0\n",
              "227       1        0.223939                     0"
            ]
          },
          "metadata": {
            "tags": []
          },
          "execution_count": 72
        }
      ]
    },
    {
      "cell_type": "code",
      "metadata": {
        "colab": {
          "base_uri": "https://localhost:8080/",
          "height": 279
        },
        "id": "XLG8lvb0tD_G",
        "outputId": "b379bbf2-9449-4f16-f306-dddb56527f44"
      },
      "source": [
        "cm = metrics.confusion_matrix(y_pred['actual'],y_pred['valueOn_newThreshold'],[1,0])\n",
        "sn.heatmap(cm,annot=True , fmt= '.2f',cmap='coolwarm',\n",
        "           xticklabels = [\"No Heart Disease\",\"Heart Disease\"],\n",
        "           yticklabels = [\"No Heart Disease\",\"Heart Disease\"])\n",
        "plt.ylabel('True Label')\n",
        "plt.xlabel('Predicted Label')\n",
        "plt.show()"
      ],
      "execution_count": null,
      "outputs": [
        {
          "output_type": "display_data",
          "data": {
            "image/png": "[encoded data removed]",
            "text/plain": [
              "<Figure size 432x288 with 2 Axes>"
            ]
          },
          "metadata": {
            "tags": [],
            "needs_background": "light"
          }
        }
      ]
    },
    {
      "cell_type": "code",
      "metadata": {
        "id": "kTlZGPCFu7BD"
      },
      "source": [
        "def get_total_cost( actual,predicted,cost_FPs,cost_FNs):\n",
        "  cm = metrics.confusion_matrix(actual,predicted,[1,0])\n",
        "  cm_mat = np.array(cm)\n",
        "  return cm_mat[0,1]*cost_FNs +cm_mat[1,0]*cost_FPs\n",
        "\n",
        "cost_df = pd.DataFrame(columns = ['prob','cost'])"
      ],
      "execution_count": null,
      "outputs": []
    },
    {
      "cell_type": "code",
      "metadata": {
        "id": "IWnA_ZBO0KAY"
      },
      "source": [
        "idx= 0\n",
        "\n",
        "for each_prob in range(10,50) :\n",
        "  cost = get_total_cost(y_pred.actual,y_pred.predicted_prob.map(lambda x: 1 if x>(each_prob/100) else 0),1,5)\n",
        "  cost_df.loc[idx] = [each_prob/100,cost]\n",
        "  idx+=1"
      ],
      "execution_count": null,
      "outputs": []
    },
    {
      "cell_type": "code",
      "metadata": {
        "colab": {
          "base_uri": "https://localhost:8080/",
          "height": 204
        },
        "id": "ni_kq1SG0LRj",
        "outputId": "35aadebb-46db-464c-eeee-9e89b5c0d33d"
      },
      "source": [
        "cost_df.sort_values('cost',ascending=True)[0:5]"
      ],
      "execution_count": null,
      "outputs": [
        {
          "output_type": "execute_result",
          "data": {
            "text/html": [
              "<div>\n",
              "<style scoped>\n",
              "    .dataframe tbody tr th:only-of-type {\n",
              "        vertical-align: middle;\n",
              "    }\n",
              "\n",
              "    .dataframe tbody tr th {\n",
              "        vertical-align: top;\n",
              "    }\n",
              "\n",
              "    .dataframe thead th {\n",
              "        text-align: right;\n",
              "    }\n",
              "</style>\n",
              "<table border=\"1\" class=\"dataframe\">\n",
              "  <thead>\n",
              "    <tr style=\"text-align: right;\">\n",
              "      <th></th>\n",
              "      <th>prob</th>\n",
              "      <th>cost</th>\n",
              "    </tr>\n",
              "  </thead>\n",
              "  <tbody>\n",
              "    <tr>\n",
              "      <th>3</th>\n",
              "      <td>0.13</td>\n",
              "      <td>66.0</td>\n",
              "    </tr>\n",
              "    <tr>\n",
              "      <th>2</th>\n",
              "      <td>0.12</td>\n",
              "      <td>68.0</td>\n",
              "    </tr>\n",
              "    <tr>\n",
              "      <th>7</th>\n",
              "      <td>0.17</td>\n",
              "      <td>69.0</td>\n",
              "    </tr>\n",
              "    <tr>\n",
              "      <th>8</th>\n",
              "      <td>0.18</td>\n",
              "      <td>69.0</td>\n",
              "    </tr>\n",
              "    <tr>\n",
              "      <th>1</th>\n",
              "      <td>0.11</td>\n",
              "      <td>70.0</td>\n",
              "    </tr>\n",
              "  </tbody>\n",
              "</table>\n",
              "</div>"
            ],
            "text/plain": [
              "   prob  cost\n",
              "3  0.13  66.0\n",
              "2  0.12  68.0\n",
              "7  0.17  69.0\n",
              "8  0.18  69.0\n",
              "1  0.11  70.0"
            ]
          },
          "metadata": {
            "tags": []
          },
          "execution_count": 80
        }
      ]
    },
    {
      "cell_type": "code",
      "metadata": {
        "id": "mIEmXrOO3yll"
      },
      "source": [
        "y_pred['cost_prediction'] = y_pred.predicted_prob.map(lambda x : 1 if x >0.13 else 0)"
      ],
      "execution_count": null,
      "outputs": []
    },
    {
      "cell_type": "code",
      "metadata": {
        "colab": {
          "base_uri": "https://localhost:8080/"
        },
        "id": "1XZ4-ydg4_ft",
        "outputId": "62c8744f-cdd8-4b27-d998-8e18b4682de6"
      },
      "source": [
        "print(metrics.classification_report(y_pred.actual,y_pred.cost_prediction))"
      ],
      "execution_count": null,
      "outputs": [
        {
          "output_type": "stream",
          "text": [
            "              precision    recall  f1-score   support\n",
            "\n",
            "           0       0.97      0.32      0.48        90\n",
            "           1       0.44      0.98      0.61        49\n",
            "\n",
            "    accuracy                           0.55       139\n",
            "   macro avg       0.70      0.65      0.55       139\n",
            "weighted avg       0.78      0.55      0.53       139\n",
            "\n"
          ],
          "name": "stdout"
        }
      ]
    },
    {
      "cell_type": "code",
      "metadata": {
        "colab": {
          "base_uri": "https://localhost:8080/"
        },
        "id": "Lh8Lxpec5KaV",
        "outputId": "c5dd29c1-4876-4658-df1e-a1f667331469"
      },
      "source": [
        "print(metrics.classification_report(y_pred.actual,y_pred.valueOn_newThreshold))"
      ],
      "execution_count": null,
      "outputs": [
        {
          "output_type": "stream",
          "text": [
            "              precision    recall  f1-score   support\n",
            "\n",
            "           0       0.78      0.84      0.81        90\n",
            "           1       0.67      0.57      0.62        49\n",
            "\n",
            "    accuracy                           0.75       139\n",
            "   macro avg       0.73      0.71      0.71       139\n",
            "weighted avg       0.74      0.75      0.74       139\n",
            "\n"
          ],
          "name": "stdout"
        }
      ]
    },
    {
      "cell_type": "markdown",
      "metadata": {
        "id": "nLe0oPX45mKa"
      },
      "source": [
        "Decision Tree"
      ]
    },
    {
      "cell_type": "code",
      "metadata": {
        "id": "35QeocDv5i0O"
      },
      "source": [
        "Y = df.chd\n",
        "X = encoded_df\n",
        "\n",
        "\n",
        "X_train,X_test,y_train,y_test = train_test_split(X,Y,test_size=0.3,random_state=42)\n"
      ],
      "execution_count": null,
      "outputs": []
    },
    {
      "cell_type": "code",
      "metadata": {
        "colab": {
          "base_uri": "https://localhost:8080/"
        },
        "id": "-3l_QvGJ-3mN",
        "outputId": "70dc4f7b-f19a-499a-b478-0357171269a0"
      },
      "source": [
        "from sklearn.tree import DecisionTreeClassifier\n",
        "\n",
        "clf_tree = DecisionTreeClassifier(criterion ='gini',max_depth =4)\n",
        "clf_tree.fit(X_train,y_train)"
      ],
      "execution_count": null,
      "outputs": [
        {
          "output_type": "execute_result",
          "data": {
            "text/plain": [
              "DecisionTreeClassifier(ccp_alpha=0.0, class_weight=None, criterion='gini',\n",
              "                       max_depth=4, max_features=None, max_leaf_nodes=None,\n",
              "                       min_impurity_decrease=0.0, min_impurity_split=None,\n",
              "                       min_samples_leaf=1, min_samples_split=2,\n",
              "                       min_weight_fraction_leaf=0.0, presort='deprecated',\n",
              "                       random_state=None, splitter='best')"
            ]
          },
          "metadata": {
            "tags": []
          },
          "execution_count": 86
        }
      ]
    },
    {
      "cell_type": "code",
      "metadata": {
        "colab": {
          "base_uri": "https://localhost:8080/"
        },
        "id": "Co9Fo8EC_b0q",
        "outputId": "044847a6-6ef3-48ef-edcc-b9fbee76d717"
      },
      "source": [
        "tree_predict = clf_tree.predict(X_test)\n",
        "metrics.roc_auc_score(y_test,tree_predict)"
      ],
      "execution_count": null,
      "outputs": [
        {
          "output_type": "execute_result",
          "data": {
            "text/plain": [
              "0.5901360544217686"
            ]
          },
          "metadata": {
            "tags": []
          },
          "execution_count": 87
        }
      ]
    },
    {
      "cell_type": "code",
      "metadata": {
        "colab": {
          "base_uri": "https://localhost:8080/",
          "height": 407
        },
        "id": "bWIOQb1S_yy6",
        "outputId": "d7d3f466-f323-439b-9d29-ba2a54457377"
      },
      "source": [
        "#Display Decision Tree\n",
        "\n",
        "from sklearn.tree import export_graphviz\n",
        "import pydotplus as pdot\n",
        "from IPython.display import Image\n",
        "\n",
        "export_graphviz(clf_tree,\n",
        "                out_file= 'chd_tree.odt',\n",
        "                feature_names = X_train.columns,\n",
        "                filled = True)\n",
        "\n",
        "chd_tree_graph = pdot.graphviz.graph_from_dot_file('chd_tree.odt')\n",
        "chd_tree_graph.write_jpg('chd_tree.png')\n",
        "\n",
        "Image(filename = 'chd_tree.png')"
      ],
      "execution_count": null,
      "outputs": [
        {
          "output_type": "execute_result",
          "data": {
            "image/png": "[encoded data removed]",
            "text/plain": [
              "<IPython.core.display.Image object>"
            ]
          },
          "metadata": {
            "tags": []
          },
          "execution_count": 88
        }
      ]
    },
    {
      "cell_type": "code",
      "metadata": {
        "colab": {
          "base_uri": "https://localhost:8080/"
        },
        "id": "Tlodkt-DBKW2",
        "outputId": "70885d57-9c15-4388-facf-ebac5ddd96ec"
      },
      "source": [
        "from  sklearn.model_selection import GridSearchCV\n",
        "\n",
        "tuned_parameters = [{'criterion' : ['gini','entropy'],\n",
        "                     'max_depth': range(3,10)}]\n",
        "clf_tree = DecisionTreeClassifier()\n",
        "clf = GridSearchCV(clf_tree,tuned_parameters,cv=10,scoring='roc_auc')\n",
        "\n",
        "clf.fit(X_train,y_train)"
      ],
      "execution_count": null,
      "outputs": [
        {
          "output_type": "execute_result",
          "data": {
            "text/plain": [
              "GridSearchCV(cv=10, error_score=nan,\n",
              "             estimator=DecisionTreeClassifier(ccp_alpha=0.0, class_weight=None,\n",
              "                                              criterion='gini', max_depth=None,\n",
              "                                              max_features=None,\n",
              "                                              max_leaf_nodes=None,\n",
              "                                              min_impurity_decrease=0.0,\n",
              "                                              min_impurity_split=None,\n",
              "                                              min_samples_leaf=1,\n",
              "                                              min_samples_split=2,\n",
              "                                              min_weight_fraction_leaf=0.0,\n",
              "                                              presort='deprecated',\n",
              "                                              random_state=None,\n",
              "                                              splitter='best'),\n",
              "             iid='deprecated', n_jobs=None,\n",
              "             param_grid=[{'criterion': ['gini', 'entropy'],\n",
              "                          'max_depth': range(3, 10)}],\n",
              "             pre_dispatch='2*n_jobs', refit=True, return_train_score=False,\n",
              "             scoring='roc_auc', verbose=0)"
            ]
          },
          "metadata": {
            "tags": []
          },
          "execution_count": 89
        }
      ]
    },
    {
      "cell_type": "code",
      "metadata": {
        "colab": {
          "base_uri": "https://localhost:8080/"
        },
        "id": "bSebQAq0EVqL",
        "outputId": "01af4863-a1f9-4eac-9156-0db973022ae9"
      },
      "source": [
        "clf.best_score_"
      ],
      "execution_count": null,
      "outputs": [
        {
          "output_type": "execute_result",
          "data": {
            "text/plain": [
              "0.6244244391971665"
            ]
          },
          "metadata": {
            "tags": []
          },
          "execution_count": 90
        }
      ]
    },
    {
      "cell_type": "code",
      "metadata": {
        "id": "AhuIMc63EapI",
        "colab": {
          "base_uri": "https://localhost:8080/"
        },
        "outputId": "df68d33b-b17b-44f9-9dfc-293e1437d501"
      },
      "source": [
        "clf.best_params_"
      ],
      "execution_count": null,
      "outputs": [
        {
          "output_type": "execute_result",
          "data": {
            "text/plain": [
              "{'criterion': 'gini', 'max_depth': 3}"
            ]
          },
          "metadata": {
            "tags": []
          },
          "execution_count": 91
        }
      ]
    },
    {
      "cell_type": "code",
      "metadata": {
        "id": "OaWpysgDEdBR"
      },
      "source": [
        ""
      ],
      "execution_count": null,
      "outputs": []
    }
  ]
}